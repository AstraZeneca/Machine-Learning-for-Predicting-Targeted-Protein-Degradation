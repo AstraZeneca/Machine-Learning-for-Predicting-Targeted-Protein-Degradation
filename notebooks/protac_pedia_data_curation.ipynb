{
 "cells": [
  {
   "attachments": {},
   "cell_type": "markdown",
   "metadata": {},
   "source": [
    "# PROTAC-PEDIA Data Curation"
   ]
  },
  {
   "attachments": {},
   "cell_type": "markdown",
   "metadata": {},
   "source": [
    "## Setup and Imports"
   ]
  },
  {
   "cell_type": "code",
   "execution_count": 1,
   "metadata": {},
   "outputs": [],
   "source": [
    "from IPython.display import display_html\n",
    "# from IPython.core.interactiveshell import InteractiveShell\n",
    "# InteractiveShell.ast_node_interactivity = 'all'\n",
    "\n",
    "import collections\n",
    "import itertools\n",
    "import re\n",
    "import gc\n",
    "import math\n",
    "import numpy as np\n",
    "import pandas as pd\n",
    "import pickle\n",
    "import requests as r\n",
    "import matplotlib.pyplot as plt\n",
    "import seaborn as sns\n",
    "import shutil\n",
    "import os\n",
    "\n",
    "import typing\n",
    "from typing import Mapping, Literal, Callable, List, ClassVar, Any\n",
    "\n",
    "from uuid import uuid4\n",
    "from rdkit import Chem\n",
    "from rdkit.Chem import AllChem, DataStructs, MACCSkeys\n",
    "from datetime import date\n",
    "from scipy.sparse import csr_matrix, vstack\n",
    "\n",
    "import sklearn\n",
    "from sklearn.feature_extraction.text import CountVectorizer\n",
    "from sklearn.model_selection import train_test_split, GroupShuffleSplit\n",
    "from sklearn import preprocessing\n",
    "from sklearn import metrics\n",
    "from sklearn.metrics import classification_report, f1_score, roc_auc_score\n",
    "from sklearn.metrics import confusion_matrix, ConfusionMatrixDisplay\n",
    "from sklearn.utils import class_weight\n",
    "\n",
    "pd.set_option('display.max_columns', 1000, 'display.width', 2000, 'display.max_colwidth', 100)"
   ]
  },
  {
   "cell_type": "code",
   "execution_count": 2,
   "metadata": {},
   "outputs": [],
   "source": [
    "data_dir = os.path.join(os.getcwd(), '..', 'data')\n",
    "src_dir = os.path.join(os.getcwd(), '..', 'src')\n",
    "fig_dir = os.path.join(data_dir, 'figures')\n",
    "checkpoint_dir = os.path.join(os.getcwd(), '..', 'checkpoints')\n",
    "dirs_to_make = [\n",
    "    data_dir,\n",
    "    os.path.join(data_dir, 'raw'),\n",
    "    os.path.join(data_dir, 'processed'),\n",
    "    os.path.join(data_dir, 'train'),\n",
    "    os.path.join(data_dir, 'val'),\n",
    "    os.path.join(data_dir, 'test'),\n",
    "    src_dir,\n",
    "    fig_dir,\n",
    "    checkpoint_dir,\n",
    "]\n",
    "for d in dirs_to_make:\n",
    "    if not os.path.exists(d):\n",
    "        os.makedirs(d)"
   ]
  },
  {
   "attachments": {},
   "cell_type": "markdown",
   "metadata": {},
   "source": [
    "## Data Curation"
   ]
  },
  {
   "cell_type": "code",
   "execution_count": 3,
   "metadata": {},
   "outputs": [
    {
     "name": "stdout",
     "output_type": "stream",
     "text": [
      "   PROTACDB ID                                                                                        PROTAC SMILES Active/Inactive Best PROTAC   Cells     cLogP                              Comments        Curator   Dc50     Dmax                                                             E3 Binder SMILES E3 Ligase Ec50 of Ligand Cells Ec50 of PROTAC Cells               exit_vector  Hbond acceptors  Hbond donors Ic50 of Ligand Ic50 of PROTAC Ligand Name                                                                                        Ligand SMILES          Linker Linker Type  linker_ha  linker_no  linker_rb        MW    Off Targets Reported PATENT Ligand PDB Ligand ID      Pubmed  PROTAC Name Proteomics Data Available  Secondary Pubmed    Status  Target Tested A Non Binding E3 Control Tested Competition With Ligand Tested Engagement In Cells Tested Proteaseome Inhibitor Time    TPSA\n",
      "0            1  Cc1ncsc1-c1ccc([C@H](C)NC(=O)[C@@H]2C[C@@H](O)CN2C(=O)[C@@H](NC(=O)CC(=O)N2CCN(CC[C@H](CSc3ccccc...        Inactive          No  MOLT-4  10.83732  IC50's are for cell viability assays  Ronen Gabizon    NaN      NaN  Cc1ncsc1-c1ccc([C@H](C)NC(=O)[C@@H]2C[C@@H](O)CN2C(=O)[C@@H](N)C(C)(C)C)cc1       VHL                  NaN                  NaN  morpholine_to_piperazine               17             5            NaN            NaN     ABT-263  CC1(C)CCC(c2ccc(Cl)cc2)=C(CN2CCN(c3ccc(C(=O)NS(=O)(=O)c4ccc(N[C@H](CCN5CCOCC5)CSc5ccccc5)c(S(=O)...      NC(=O)CC=O      Alkane          6          3          2  1486.282  No degradation of BCL2    NaN       4QNQ       1XJ  32145645.0           1a                        No               NaN  Reviewed  Q07817                              No                             No                         No                           No   48  251.07\n",
      "1            2  Cc1ncsc1-c1ccc([C@H](C)NC(=O)[C@@H]2C[C@@H](O)CN2C(=O)[C@@H](NC(=O)CCC(=O)N2CCN(CC[C@H](CSc3cccc...        Inactive          No  MOLT-4  11.22742  IC50's are for cell viability assays  Ronen Gabizon    NaN      NaN  Cc1ncsc1-c1ccc([C@H](C)NC(=O)[C@@H]2C[C@@H](O)CN2C(=O)[C@@H](N)C(C)(C)C)cc1       VHL                  NaN                  NaN  morpholine_to_piperazine               17             5            NaN            NaN     ABT-263  CC1(C)CCC(c2ccc(Cl)cc2)=C(CN2CCN(c3ccc(C(=O)NS(=O)(=O)c4ccc(N[C@H](CCN5CCOCC5)CSc5ccccc5)c(S(=O)...     NC(=O)CCC=O      Alkane          7          3          3  1500.309  No degradation of BCL2    NaN       4QNQ       1XJ  32145645.0           1b                        No               NaN  Reviewed  Q07817                              No                             No                         No                           No   48  251.07\n",
      "2            3  Cc1ncsc1-c1ccc([C@H](C)NC(=O)[C@@H]2C[C@@H](O)CN2C(=O)[C@@H](NC(=O)CCCC(=O)N2CCN(CC[C@H](CSc3ccc...        Inactive          No  MOLT-4  11.61752  IC50's are for cell viability assays  Ronen Gabizon    NaN      NaN  Cc1ncsc1-c1ccc([C@H](C)NC(=O)[C@@H]2C[C@@H](O)CN2C(=O)[C@@H](N)C(C)(C)C)cc1       VHL                  NaN                  NaN  morpholine_to_piperazine               17             5            NaN            NaN     ABT-263  CC1(C)CCC(c2ccc(Cl)cc2)=C(CN2CCN(c3ccc(C(=O)NS(=O)(=O)c4ccc(N[C@H](CCN5CCOCC5)CSc5ccccc5)c(S(=O)...    NC(=O)CCCC=O      Alkane          8          3          4  1514.336  No degradation of BCL2    NaN       4QNQ       1XJ  32145645.0           1c                        No               NaN  Reviewed  Q07817                              No                             No                         No                           No   48  251.07\n",
      "3            4  Cc1ncsc1-c1ccc([C@H](C)NC(=O)[C@@H]2C[C@@H](O)CN2C(=O)[C@@H](NC(=O)CCCCC(=O)N2CCN(CC[C@H](CSc3cc...          Active          No  MOLT-4  12.00762  IC50's are for cell viability assays  Ronen Gabizon    NaN      NaN  Cc1ncsc1-c1ccc([C@H](C)NC(=O)[C@@H]2C[C@@H](O)CN2C(=O)[C@@H](N)C(C)(C)C)cc1       VHL                  NaN                  NaN  morpholine_to_piperazine               17             5            NaN            NaN     ABT-263  CC1(C)CCC(c2ccc(Cl)cc2)=C(CN2CCN(c3ccc(C(=O)NS(=O)(=O)c4ccc(N[C@H](CCN5CCOCC5)CSc5ccccc5)c(S(=O)...   NC(=O)CCCCC=O      Alkane          9          3          5  1528.363  No degradation of BCL2    NaN       4QNQ       1XJ  32145645.0           1d                        No               NaN  Reviewed  Q07817                              No                             No                         No                           No   48  251.07\n",
      "4            5  Cc1ncsc1-c1ccc([C@H](C)NC(=O)[C@@H]2C[C@@H](O)CN2C(=O)[C@@H](NC(=O)CCCCCC(=O)N2CCN(CC[C@H](CSc3c...          Active          No  MOLT-4  12.39772  IC50's are for cell viability assays  Ronen Gabizon  53 nM  ~ 100 %  Cc1ncsc1-c1ccc([C@H](C)NC(=O)[C@@H]2C[C@@H](O)CN2C(=O)[C@@H](N)C(C)(C)C)cc1       VHL                  NaN                  NaN  morpholine_to_piperazine               17             5            NaN            NaN     ABT-263  CC1(C)CCC(c2ccc(Cl)cc2)=C(CN2CCN(c3ccc(C(=O)NS(=O)(=O)c4ccc(N[C@H](CCN5CCOCC5)CSc5ccccc5)c(S(=O)...  NC(=O)CCCCCC=O      Alkane         10          3          6  1542.390  No degradation of BCL2    NaN       4QNQ       1XJ  32145645.0  1e (DT2216)                        No               NaN  Reviewed  Q07817                              No                             No                        Yes                           No   48  251.07\n"
     ]
    }
   ],
   "source": [
    "df_file = os.path.join(data_dir, 'raw', 'protac_pedia_20220210.csv')\n",
    "protac_pedia_df = pd.read_csv(df_file)\n",
    "print(protac_pedia_df.head())"
   ]
  },
  {
   "cell_type": "code",
   "execution_count": 8,
   "metadata": {},
   "outputs": [
    {
     "data": {
      "text/html": [
       "<div>\n",
       "<style scoped>\n",
       "    .dataframe tbody tr th:only-of-type {\n",
       "        vertical-align: middle;\n",
       "    }\n",
       "\n",
       "    .dataframe tbody tr th {\n",
       "        vertical-align: top;\n",
       "    }\n",
       "\n",
       "    .dataframe thead th {\n",
       "        text-align: right;\n",
       "    }\n",
       "</style>\n",
       "<table border=\"1\" class=\"dataframe\">\n",
       "  <thead>\n",
       "    <tr style=\"text-align: right;\">\n",
       "      <th></th>\n",
       "      <th>PROTAC SMILES</th>\n",
       "      <th>Linker</th>\n",
       "    </tr>\n",
       "  </thead>\n",
       "  <tbody>\n",
       "    <tr>\n",
       "      <th>0</th>\n",
       "      <td>Cc1ncsc1-c1ccc([C@H](C)NC(=O)[C@@H]2C[C@@H](O)CN2C(=O)[C@@H](NC(=O)CC(=O)N2CCN(CC[C@H](CSc3ccccc...</td>\n",
       "      <td>NC(=O)CC=O</td>\n",
       "    </tr>\n",
       "    <tr>\n",
       "      <th>1</th>\n",
       "      <td>Cc1ncsc1-c1ccc([C@H](C)NC(=O)[C@@H]2C[C@@H](O)CN2C(=O)[C@@H](NC(=O)CCC(=O)N2CCN(CC[C@H](CSc3cccc...</td>\n",
       "      <td>NC(=O)CCC=O</td>\n",
       "    </tr>\n",
       "    <tr>\n",
       "      <th>2</th>\n",
       "      <td>Cc1ncsc1-c1ccc([C@H](C)NC(=O)[C@@H]2C[C@@H](O)CN2C(=O)[C@@H](NC(=O)CCCC(=O)N2CCN(CC[C@H](CSc3ccc...</td>\n",
       "      <td>NC(=O)CCCC=O</td>\n",
       "    </tr>\n",
       "    <tr>\n",
       "      <th>3</th>\n",
       "      <td>Cc1ncsc1-c1ccc([C@H](C)NC(=O)[C@@H]2C[C@@H](O)CN2C(=O)[C@@H](NC(=O)CCCCC(=O)N2CCN(CC[C@H](CSc3cc...</td>\n",
       "      <td>NC(=O)CCCCC=O</td>\n",
       "    </tr>\n",
       "    <tr>\n",
       "      <th>4</th>\n",
       "      <td>Cc1ncsc1-c1ccc([C@H](C)NC(=O)[C@@H]2C[C@@H](O)CN2C(=O)[C@@H](NC(=O)CCCCCC(=O)N2CCN(CC[C@H](CSc3c...</td>\n",
       "      <td>NC(=O)CCCCCC=O</td>\n",
       "    </tr>\n",
       "    <tr>\n",
       "      <th>...</th>\n",
       "      <td>...</td>\n",
       "      <td>...</td>\n",
       "    </tr>\n",
       "    <tr>\n",
       "      <th>1198</th>\n",
       "      <td>O=C(C1N(CC2=CC(Cl)=C(OCC3=CC=CC(C4=CC=C5OCCOC5=C4)=C3C)C=C2OCC6=CC=CC(C#N)=C6)CCCC1)NCCCCNC7=CC=...</td>\n",
       "      <td>CCCCN</td>\n",
       "    </tr>\n",
       "    <tr>\n",
       "      <th>1199</th>\n",
       "      <td>O=C(C1N(CC2=CC(Cl)=C(OCC3=CC=CC(C4=CC=C5OCCOC5=C4)=C3C)C=C2OCC6=CC=CC(C#N)=C6)CCCC1)NCCCCCNC7=CC...</td>\n",
       "      <td>CCCCCN</td>\n",
       "    </tr>\n",
       "    <tr>\n",
       "      <th>1200</th>\n",
       "      <td>O=C(C1N(CC2=CC(Cl)=C(OCC3=CC=CC(C4=CC=C5OCCOC5=C4)=C3C)C=C2OCC6=CC=CC(C#N)=C6)CCCC1)NCCCCCCNC7=C...</td>\n",
       "      <td>CCCCCCN</td>\n",
       "    </tr>\n",
       "    <tr>\n",
       "      <th>1201</th>\n",
       "      <td>O=C1N(C2CCC(NC2=O)=O)C(C3=C(NCCCCCCCC(NC(C=C4)=CC=C4N5CC6=CC=C(O)C=C6OC5=O)=O)C=CC=C31)=O</td>\n",
       "      <td>CCCCCCCC(N)=O</td>\n",
       "    </tr>\n",
       "    <tr>\n",
       "      <th>1202</th>\n",
       "      <td>O=C(N[C@@H](C(C)(C)C)C(N1C[C@@H](C[C@H]1C(N[C@@H](C)C2=CC=C(C3=C(N=CS3)C)C=C2)=O)O)=O)CCCC/C=C/C...</td>\n",
       "      <td>CCCC=O</td>\n",
       "    </tr>\n",
       "  </tbody>\n",
       "</table>\n",
       "<p>1189 rows × 2 columns</p>\n",
       "</div>"
      ],
      "text/plain": [
       "                                                                                            PROTAC SMILES          Linker\n",
       "0     Cc1ncsc1-c1ccc([C@H](C)NC(=O)[C@@H]2C[C@@H](O)CN2C(=O)[C@@H](NC(=O)CC(=O)N2CCN(CC[C@H](CSc3ccccc...      NC(=O)CC=O\n",
       "1     Cc1ncsc1-c1ccc([C@H](C)NC(=O)[C@@H]2C[C@@H](O)CN2C(=O)[C@@H](NC(=O)CCC(=O)N2CCN(CC[C@H](CSc3cccc...     NC(=O)CCC=O\n",
       "2     Cc1ncsc1-c1ccc([C@H](C)NC(=O)[C@@H]2C[C@@H](O)CN2C(=O)[C@@H](NC(=O)CCCC(=O)N2CCN(CC[C@H](CSc3ccc...    NC(=O)CCCC=O\n",
       "3     Cc1ncsc1-c1ccc([C@H](C)NC(=O)[C@@H]2C[C@@H](O)CN2C(=O)[C@@H](NC(=O)CCCCC(=O)N2CCN(CC[C@H](CSc3cc...   NC(=O)CCCCC=O\n",
       "4     Cc1ncsc1-c1ccc([C@H](C)NC(=O)[C@@H]2C[C@@H](O)CN2C(=O)[C@@H](NC(=O)CCCCCC(=O)N2CCN(CC[C@H](CSc3c...  NC(=O)CCCCCC=O\n",
       "...                                                                                                   ...             ...\n",
       "1198  O=C(C1N(CC2=CC(Cl)=C(OCC3=CC=CC(C4=CC=C5OCCOC5=C4)=C3C)C=C2OCC6=CC=CC(C#N)=C6)CCCC1)NCCCCNC7=CC=...           CCCCN\n",
       "1199  O=C(C1N(CC2=CC(Cl)=C(OCC3=CC=CC(C4=CC=C5OCCOC5=C4)=C3C)C=C2OCC6=CC=CC(C#N)=C6)CCCC1)NCCCCCNC7=CC...          CCCCCN\n",
       "1200  O=C(C1N(CC2=CC(Cl)=C(OCC3=CC=CC(C4=CC=C5OCCOC5=C4)=C3C)C=C2OCC6=CC=CC(C#N)=C6)CCCC1)NCCCCCCNC7=C...         CCCCCCN\n",
       "1201            O=C1N(C2CCC(NC2=O)=O)C(C3=C(NCCCCCCCC(NC(C=C4)=CC=C4N5CC6=CC=C(O)C=C6OC5=O)=O)C=CC=C31)=O   CCCCCCCC(N)=O\n",
       "1202  O=C(N[C@@H](C(C)(C)C)C(N1C[C@@H](C[C@H]1C(N[C@@H](C)C2=CC=C(C3=C(N=CS3)C)C=C2)=O)O)=O)CCCC/C=C/C...          CCCC=O\n",
       "\n",
       "[1189 rows x 2 columns]"
      ]
     },
     "execution_count": 8,
     "metadata": {},
     "output_type": "execute_result"
    }
   ],
   "source": [
    "protac_pedia_df[['PROTAC SMILES', 'Linker']].dropna(subset=['PROTAC SMILES', 'Linker']).drop_duplicates()"
   ]
  },
  {
   "cell_type": "code",
   "execution_count": 6,
   "metadata": {},
   "outputs": [
    {
     "name": "stdout",
     "output_type": "stream",
     "text": [
      "--------------------------------------------------------------------------------\n",
      "PROTACDB ID\n",
      "--------------------------------------------------------------------------------\n"
     ]
    },
    {
     "data": {
      "text/plain": [
       "0    1\n",
       "1    2\n",
       "2    3\n",
       "3    4\n",
       "4    5\n",
       "Name: PROTACDB ID, dtype: int64"
      ]
     },
     "metadata": {},
     "output_type": "display_data"
    },
    {
     "name": "stdout",
     "output_type": "stream",
     "text": [
      "--------------------------------------------------------------------------------\n",
      "PROTAC SMILES\n",
      "--------------------------------------------------------------------------------\n"
     ]
    },
    {
     "data": {
      "text/plain": [
       "0    Cc1ncsc1-c1ccc([C@H](C)NC(=O)[C@@H]2C[C@@H](O)CN2C(=O)[C@@H](NC(=O)CC(=O)N2CCN(CC[C@H](CSc3ccccc...\n",
       "1    Cc1ncsc1-c1ccc([C@H](C)NC(=O)[C@@H]2C[C@@H](O)CN2C(=O)[C@@H](NC(=O)CCC(=O)N2CCN(CC[C@H](CSc3cccc...\n",
       "2    Cc1ncsc1-c1ccc([C@H](C)NC(=O)[C@@H]2C[C@@H](O)CN2C(=O)[C@@H](NC(=O)CCCC(=O)N2CCN(CC[C@H](CSc3ccc...\n",
       "3    Cc1ncsc1-c1ccc([C@H](C)NC(=O)[C@@H]2C[C@@H](O)CN2C(=O)[C@@H](NC(=O)CCCCC(=O)N2CCN(CC[C@H](CSc3cc...\n",
       "4    Cc1ncsc1-c1ccc([C@H](C)NC(=O)[C@@H]2C[C@@H](O)CN2C(=O)[C@@H](NC(=O)CCCCCC(=O)N2CCN(CC[C@H](CSc3c...\n",
       "Name: PROTAC SMILES, dtype: object"
      ]
     },
     "metadata": {},
     "output_type": "display_data"
    },
    {
     "name": "stdout",
     "output_type": "stream",
     "text": [
      "--------------------------------------------------------------------------------\n",
      "Active/Inactive\n",
      "--------------------------------------------------------------------------------\n"
     ]
    },
    {
     "data": {
      "text/plain": [
       "0    Inactive\n",
       "1    Inactive\n",
       "2    Inactive\n",
       "3      Active\n",
       "4      Active\n",
       "Name: Active/Inactive, dtype: object"
      ]
     },
     "metadata": {},
     "output_type": "display_data"
    },
    {
     "name": "stdout",
     "output_type": "stream",
     "text": [
      "--------------------------------------------------------------------------------\n",
      "Best PROTAC\n",
      "--------------------------------------------------------------------------------\n"
     ]
    },
    {
     "data": {
      "text/plain": [
       "0    No\n",
       "1    No\n",
       "2    No\n",
       "3    No\n",
       "4    No\n",
       "Name: Best PROTAC, dtype: object"
      ]
     },
     "metadata": {},
     "output_type": "display_data"
    },
    {
     "name": "stdout",
     "output_type": "stream",
     "text": [
      "--------------------------------------------------------------------------------\n",
      "Cells\n",
      "--------------------------------------------------------------------------------\n"
     ]
    },
    {
     "data": {
      "text/plain": [
       "0    MOLT-4\n",
       "1    MOLT-4\n",
       "2    MOLT-4\n",
       "3    MOLT-4\n",
       "4    MOLT-4\n",
       "Name: Cells, dtype: object"
      ]
     },
     "metadata": {},
     "output_type": "display_data"
    },
    {
     "name": "stdout",
     "output_type": "stream",
     "text": [
      "--------------------------------------------------------------------------------\n",
      "cLogP\n",
      "--------------------------------------------------------------------------------\n"
     ]
    },
    {
     "data": {
      "text/plain": [
       "0    10.83732\n",
       "1    11.22742\n",
       "2    11.61752\n",
       "3    12.00762\n",
       "4    12.39772\n",
       "Name: cLogP, dtype: float64"
      ]
     },
     "metadata": {},
     "output_type": "display_data"
    },
    {
     "name": "stdout",
     "output_type": "stream",
     "text": [
      "--------------------------------------------------------------------------------\n",
      "Comments\n",
      "--------------------------------------------------------------------------------\n"
     ]
    },
    {
     "data": {
      "text/plain": [
       "0    IC50's are for cell viability assays\n",
       "1    IC50's are for cell viability assays\n",
       "2    IC50's are for cell viability assays\n",
       "3    IC50's are for cell viability assays\n",
       "4    IC50's are for cell viability assays\n",
       "Name: Comments, dtype: object"
      ]
     },
     "metadata": {},
     "output_type": "display_data"
    },
    {
     "name": "stdout",
     "output_type": "stream",
     "text": [
      "--------------------------------------------------------------------------------\n",
      "Curator\n",
      "--------------------------------------------------------------------------------\n"
     ]
    },
    {
     "data": {
      "text/plain": [
       "0    Ronen Gabizon\n",
       "1    Ronen Gabizon\n",
       "2    Ronen Gabizon\n",
       "3    Ronen Gabizon\n",
       "4    Ronen Gabizon\n",
       "Name: Curator, dtype: object"
      ]
     },
     "metadata": {},
     "output_type": "display_data"
    },
    {
     "name": "stdout",
     "output_type": "stream",
     "text": [
      "--------------------------------------------------------------------------------\n",
      "Dc50\n",
      "--------------------------------------------------------------------------------\n"
     ]
    },
    {
     "data": {
      "text/plain": [
       "0      NaN\n",
       "1      NaN\n",
       "2      NaN\n",
       "3      NaN\n",
       "4    53 nM\n",
       "Name: Dc50, dtype: object"
      ]
     },
     "metadata": {},
     "output_type": "display_data"
    },
    {
     "name": "stdout",
     "output_type": "stream",
     "text": [
      "--------------------------------------------------------------------------------\n",
      "Dmax\n",
      "--------------------------------------------------------------------------------\n"
     ]
    },
    {
     "data": {
      "text/plain": [
       "0        NaN\n",
       "1        NaN\n",
       "2        NaN\n",
       "3        NaN\n",
       "4    ~ 100 %\n",
       "Name: Dmax, dtype: object"
      ]
     },
     "metadata": {},
     "output_type": "display_data"
    },
    {
     "name": "stdout",
     "output_type": "stream",
     "text": [
      "--------------------------------------------------------------------------------\n",
      "E3 Binder SMILES\n",
      "--------------------------------------------------------------------------------\n"
     ]
    },
    {
     "data": {
      "text/plain": [
       "0    Cc1ncsc1-c1ccc([C@H](C)NC(=O)[C@@H]2C[C@@H](O)CN2C(=O)[C@@H](N)C(C)(C)C)cc1\n",
       "1    Cc1ncsc1-c1ccc([C@H](C)NC(=O)[C@@H]2C[C@@H](O)CN2C(=O)[C@@H](N)C(C)(C)C)cc1\n",
       "2    Cc1ncsc1-c1ccc([C@H](C)NC(=O)[C@@H]2C[C@@H](O)CN2C(=O)[C@@H](N)C(C)(C)C)cc1\n",
       "3    Cc1ncsc1-c1ccc([C@H](C)NC(=O)[C@@H]2C[C@@H](O)CN2C(=O)[C@@H](N)C(C)(C)C)cc1\n",
       "4    Cc1ncsc1-c1ccc([C@H](C)NC(=O)[C@@H]2C[C@@H](O)CN2C(=O)[C@@H](N)C(C)(C)C)cc1\n",
       "Name: E3 Binder SMILES, dtype: object"
      ]
     },
     "metadata": {},
     "output_type": "display_data"
    },
    {
     "name": "stdout",
     "output_type": "stream",
     "text": [
      "--------------------------------------------------------------------------------\n",
      "E3 Ligase\n",
      "--------------------------------------------------------------------------------\n"
     ]
    },
    {
     "data": {
      "text/plain": [
       "0    VHL\n",
       "1    VHL\n",
       "2    VHL\n",
       "3    VHL\n",
       "4    VHL\n",
       "Name: E3 Ligase, dtype: object"
      ]
     },
     "metadata": {},
     "output_type": "display_data"
    },
    {
     "name": "stdout",
     "output_type": "stream",
     "text": [
      "--------------------------------------------------------------------------------\n",
      "Ec50 of Ligand Cells\n",
      "--------------------------------------------------------------------------------\n"
     ]
    },
    {
     "data": {
      "text/plain": [
       "0    NaN\n",
       "1    NaN\n",
       "2    NaN\n",
       "3    NaN\n",
       "4    NaN\n",
       "Name: Ec50 of Ligand Cells, dtype: object"
      ]
     },
     "metadata": {},
     "output_type": "display_data"
    },
    {
     "name": "stdout",
     "output_type": "stream",
     "text": [
      "--------------------------------------------------------------------------------\n",
      "Ec50 of PROTAC Cells\n",
      "--------------------------------------------------------------------------------\n"
     ]
    },
    {
     "data": {
      "text/plain": [
       "0    NaN\n",
       "1    NaN\n",
       "2    NaN\n",
       "3    NaN\n",
       "4    NaN\n",
       "Name: Ec50 of PROTAC Cells, dtype: object"
      ]
     },
     "metadata": {},
     "output_type": "display_data"
    },
    {
     "name": "stdout",
     "output_type": "stream",
     "text": [
      "--------------------------------------------------------------------------------\n",
      "exit_vector\n",
      "--------------------------------------------------------------------------------\n"
     ]
    },
    {
     "data": {
      "text/plain": [
       "0    morpholine_to_piperazine\n",
       "1    morpholine_to_piperazine\n",
       "2    morpholine_to_piperazine\n",
       "3    morpholine_to_piperazine\n",
       "4    morpholine_to_piperazine\n",
       "Name: exit_vector, dtype: object"
      ]
     },
     "metadata": {},
     "output_type": "display_data"
    },
    {
     "name": "stdout",
     "output_type": "stream",
     "text": [
      "--------------------------------------------------------------------------------\n",
      "Hbond acceptors\n",
      "--------------------------------------------------------------------------------\n"
     ]
    },
    {
     "data": {
      "text/plain": [
       "0    17\n",
       "1    17\n",
       "2    17\n",
       "3    17\n",
       "4    17\n",
       "Name: Hbond acceptors, dtype: int64"
      ]
     },
     "metadata": {},
     "output_type": "display_data"
    },
    {
     "name": "stdout",
     "output_type": "stream",
     "text": [
      "--------------------------------------------------------------------------------\n",
      "Hbond donors\n",
      "--------------------------------------------------------------------------------\n"
     ]
    },
    {
     "data": {
      "text/plain": [
       "0    5\n",
       "1    5\n",
       "2    5\n",
       "3    5\n",
       "4    5\n",
       "Name: Hbond donors, dtype: int64"
      ]
     },
     "metadata": {},
     "output_type": "display_data"
    },
    {
     "name": "stdout",
     "output_type": "stream",
     "text": [
      "--------------------------------------------------------------------------------\n",
      "Ic50 of Ligand\n",
      "--------------------------------------------------------------------------------\n"
     ]
    },
    {
     "data": {
      "text/plain": [
       "0    NaN\n",
       "1    NaN\n",
       "2    NaN\n",
       "3    NaN\n",
       "4    NaN\n",
       "Name: Ic50 of Ligand, dtype: object"
      ]
     },
     "metadata": {},
     "output_type": "display_data"
    },
    {
     "name": "stdout",
     "output_type": "stream",
     "text": [
      "--------------------------------------------------------------------------------\n",
      "Ic50 of PROTAC\n",
      "--------------------------------------------------------------------------------\n"
     ]
    },
    {
     "data": {
      "text/plain": [
       "0    NaN\n",
       "1    NaN\n",
       "2    NaN\n",
       "3    NaN\n",
       "4    NaN\n",
       "Name: Ic50 of PROTAC, dtype: object"
      ]
     },
     "metadata": {},
     "output_type": "display_data"
    },
    {
     "name": "stdout",
     "output_type": "stream",
     "text": [
      "--------------------------------------------------------------------------------\n",
      "Ligand Name\n",
      "--------------------------------------------------------------------------------\n"
     ]
    },
    {
     "data": {
      "text/plain": [
       "0    ABT-263\n",
       "1    ABT-263\n",
       "2    ABT-263\n",
       "3    ABT-263\n",
       "4    ABT-263\n",
       "Name: Ligand Name, dtype: object"
      ]
     },
     "metadata": {},
     "output_type": "display_data"
    },
    {
     "name": "stdout",
     "output_type": "stream",
     "text": [
      "--------------------------------------------------------------------------------\n",
      "Ligand SMILES\n",
      "--------------------------------------------------------------------------------\n"
     ]
    },
    {
     "data": {
      "text/plain": [
       "0    CC1(C)CCC(c2ccc(Cl)cc2)=C(CN2CCN(c3ccc(C(=O)NS(=O)(=O)c4ccc(N[C@H](CCN5CCOCC5)CSc5ccccc5)c(S(=O)...\n",
       "1    CC1(C)CCC(c2ccc(Cl)cc2)=C(CN2CCN(c3ccc(C(=O)NS(=O)(=O)c4ccc(N[C@H](CCN5CCOCC5)CSc5ccccc5)c(S(=O)...\n",
       "2    CC1(C)CCC(c2ccc(Cl)cc2)=C(CN2CCN(c3ccc(C(=O)NS(=O)(=O)c4ccc(N[C@H](CCN5CCOCC5)CSc5ccccc5)c(S(=O)...\n",
       "3    CC1(C)CCC(c2ccc(Cl)cc2)=C(CN2CCN(c3ccc(C(=O)NS(=O)(=O)c4ccc(N[C@H](CCN5CCOCC5)CSc5ccccc5)c(S(=O)...\n",
       "4    CC1(C)CCC(c2ccc(Cl)cc2)=C(CN2CCN(c3ccc(C(=O)NS(=O)(=O)c4ccc(N[C@H](CCN5CCOCC5)CSc5ccccc5)c(S(=O)...\n",
       "Name: Ligand SMILES, dtype: object"
      ]
     },
     "metadata": {},
     "output_type": "display_data"
    },
    {
     "name": "stdout",
     "output_type": "stream",
     "text": [
      "--------------------------------------------------------------------------------\n",
      "Linker\n",
      "--------------------------------------------------------------------------------\n"
     ]
    },
    {
     "data": {
      "text/plain": [
       "0        NC(=O)CC=O\n",
       "1       NC(=O)CCC=O\n",
       "2      NC(=O)CCCC=O\n",
       "3     NC(=O)CCCCC=O\n",
       "4    NC(=O)CCCCCC=O\n",
       "Name: Linker, dtype: object"
      ]
     },
     "metadata": {},
     "output_type": "display_data"
    },
    {
     "name": "stdout",
     "output_type": "stream",
     "text": [
      "--------------------------------------------------------------------------------\n",
      "Linker Type\n",
      "--------------------------------------------------------------------------------\n"
     ]
    },
    {
     "data": {
      "text/plain": [
       "0    Alkane\n",
       "1    Alkane\n",
       "2    Alkane\n",
       "3    Alkane\n",
       "4    Alkane\n",
       "Name: Linker Type, dtype: object"
      ]
     },
     "metadata": {},
     "output_type": "display_data"
    },
    {
     "name": "stdout",
     "output_type": "stream",
     "text": [
      "--------------------------------------------------------------------------------\n",
      "linker_ha\n",
      "--------------------------------------------------------------------------------\n"
     ]
    },
    {
     "data": {
      "text/plain": [
       "0     6\n",
       "1     7\n",
       "2     8\n",
       "3     9\n",
       "4    10\n",
       "Name: linker_ha, dtype: int64"
      ]
     },
     "metadata": {},
     "output_type": "display_data"
    },
    {
     "name": "stdout",
     "output_type": "stream",
     "text": [
      "--------------------------------------------------------------------------------\n",
      "linker_no\n",
      "--------------------------------------------------------------------------------\n"
     ]
    },
    {
     "data": {
      "text/plain": [
       "0    3\n",
       "1    3\n",
       "2    3\n",
       "3    3\n",
       "4    3\n",
       "Name: linker_no, dtype: int64"
      ]
     },
     "metadata": {},
     "output_type": "display_data"
    },
    {
     "name": "stdout",
     "output_type": "stream",
     "text": [
      "--------------------------------------------------------------------------------\n",
      "linker_rb\n",
      "--------------------------------------------------------------------------------\n"
     ]
    },
    {
     "data": {
      "text/plain": [
       "0    2\n",
       "1    3\n",
       "2    4\n",
       "3    5\n",
       "4    6\n",
       "Name: linker_rb, dtype: int64"
      ]
     },
     "metadata": {},
     "output_type": "display_data"
    },
    {
     "name": "stdout",
     "output_type": "stream",
     "text": [
      "--------------------------------------------------------------------------------\n",
      "MW\n",
      "--------------------------------------------------------------------------------\n"
     ]
    },
    {
     "data": {
      "text/plain": [
       "0    1486.282\n",
       "1    1500.309\n",
       "2    1514.336\n",
       "3    1528.363\n",
       "4    1542.390\n",
       "Name: MW, dtype: float64"
      ]
     },
     "metadata": {},
     "output_type": "display_data"
    },
    {
     "name": "stdout",
     "output_type": "stream",
     "text": [
      "--------------------------------------------------------------------------------\n",
      "Off Targets Reported\n",
      "--------------------------------------------------------------------------------\n"
     ]
    },
    {
     "data": {
      "text/plain": [
       "0    No degradation of BCL2\n",
       "1    No degradation of BCL2\n",
       "2    No degradation of BCL2\n",
       "3    No degradation of BCL2\n",
       "4    No degradation of BCL2\n",
       "Name: Off Targets Reported, dtype: object"
      ]
     },
     "metadata": {},
     "output_type": "display_data"
    },
    {
     "name": "stdout",
     "output_type": "stream",
     "text": [
      "--------------------------------------------------------------------------------\n",
      "PATENT\n",
      "--------------------------------------------------------------------------------\n"
     ]
    },
    {
     "data": {
      "text/plain": [
       "0    NaN\n",
       "1    NaN\n",
       "2    NaN\n",
       "3    NaN\n",
       "4    NaN\n",
       "Name: PATENT, dtype: object"
      ]
     },
     "metadata": {},
     "output_type": "display_data"
    },
    {
     "name": "stdout",
     "output_type": "stream",
     "text": [
      "--------------------------------------------------------------------------------\n",
      "Ligand PDB\n",
      "--------------------------------------------------------------------------------\n"
     ]
    },
    {
     "data": {
      "text/plain": [
       "0    4QNQ\n",
       "1    4QNQ\n",
       "2    4QNQ\n",
       "3    4QNQ\n",
       "4    4QNQ\n",
       "Name: Ligand PDB, dtype: object"
      ]
     },
     "metadata": {},
     "output_type": "display_data"
    },
    {
     "name": "stdout",
     "output_type": "stream",
     "text": [
      "--------------------------------------------------------------------------------\n",
      "Ligand ID\n",
      "--------------------------------------------------------------------------------\n"
     ]
    },
    {
     "data": {
      "text/plain": [
       "0    1XJ\n",
       "1    1XJ\n",
       "2    1XJ\n",
       "3    1XJ\n",
       "4    1XJ\n",
       "Name: Ligand ID, dtype: object"
      ]
     },
     "metadata": {},
     "output_type": "display_data"
    },
    {
     "name": "stdout",
     "output_type": "stream",
     "text": [
      "--------------------------------------------------------------------------------\n",
      "Pubmed\n",
      "--------------------------------------------------------------------------------\n"
     ]
    },
    {
     "data": {
      "text/plain": [
       "0    32145645.0\n",
       "1    32145645.0\n",
       "2    32145645.0\n",
       "3    32145645.0\n",
       "4    32145645.0\n",
       "Name: Pubmed, dtype: float64"
      ]
     },
     "metadata": {},
     "output_type": "display_data"
    },
    {
     "name": "stdout",
     "output_type": "stream",
     "text": [
      "--------------------------------------------------------------------------------\n",
      "PROTAC Name\n",
      "--------------------------------------------------------------------------------\n"
     ]
    },
    {
     "data": {
      "text/plain": [
       "0             1a\n",
       "1             1b\n",
       "2             1c\n",
       "3             1d\n",
       "4    1e (DT2216)\n",
       "Name: PROTAC Name, dtype: object"
      ]
     },
     "metadata": {},
     "output_type": "display_data"
    },
    {
     "name": "stdout",
     "output_type": "stream",
     "text": [
      "--------------------------------------------------------------------------------\n",
      "Proteomics Data Available\n",
      "--------------------------------------------------------------------------------\n"
     ]
    },
    {
     "data": {
      "text/plain": [
       "0    No\n",
       "1    No\n",
       "2    No\n",
       "3    No\n",
       "4    No\n",
       "Name: Proteomics Data Available, dtype: object"
      ]
     },
     "metadata": {},
     "output_type": "display_data"
    },
    {
     "name": "stdout",
     "output_type": "stream",
     "text": [
      "--------------------------------------------------------------------------------\n",
      "Secondary Pubmed\n",
      "--------------------------------------------------------------------------------\n"
     ]
    },
    {
     "data": {
      "text/plain": [
       "0   NaN\n",
       "1   NaN\n",
       "2   NaN\n",
       "3   NaN\n",
       "4   NaN\n",
       "Name: Secondary Pubmed, dtype: float64"
      ]
     },
     "metadata": {},
     "output_type": "display_data"
    },
    {
     "name": "stdout",
     "output_type": "stream",
     "text": [
      "--------------------------------------------------------------------------------\n",
      "Status\n",
      "--------------------------------------------------------------------------------\n"
     ]
    },
    {
     "data": {
      "text/plain": [
       "0    Reviewed\n",
       "1    Reviewed\n",
       "2    Reviewed\n",
       "3    Reviewed\n",
       "4    Reviewed\n",
       "Name: Status, dtype: object"
      ]
     },
     "metadata": {},
     "output_type": "display_data"
    },
    {
     "name": "stdout",
     "output_type": "stream",
     "text": [
      "--------------------------------------------------------------------------------\n",
      "Target\n",
      "--------------------------------------------------------------------------------\n"
     ]
    },
    {
     "data": {
      "text/plain": [
       "0    Q07817\n",
       "1    Q07817\n",
       "2    Q07817\n",
       "3    Q07817\n",
       "4    Q07817\n",
       "Name: Target, dtype: object"
      ]
     },
     "metadata": {},
     "output_type": "display_data"
    },
    {
     "name": "stdout",
     "output_type": "stream",
     "text": [
      "--------------------------------------------------------------------------------\n",
      "Tested A Non Binding E3 Control\n",
      "--------------------------------------------------------------------------------\n"
     ]
    },
    {
     "data": {
      "text/plain": [
       "0    No\n",
       "1    No\n",
       "2    No\n",
       "3    No\n",
       "4    No\n",
       "Name: Tested A Non Binding E3 Control, dtype: object"
      ]
     },
     "metadata": {},
     "output_type": "display_data"
    },
    {
     "name": "stdout",
     "output_type": "stream",
     "text": [
      "--------------------------------------------------------------------------------\n",
      "Tested Competition With Ligand\n",
      "--------------------------------------------------------------------------------\n"
     ]
    },
    {
     "data": {
      "text/plain": [
       "0    No\n",
       "1    No\n",
       "2    No\n",
       "3    No\n",
       "4    No\n",
       "Name: Tested Competition With Ligand, dtype: object"
      ]
     },
     "metadata": {},
     "output_type": "display_data"
    },
    {
     "name": "stdout",
     "output_type": "stream",
     "text": [
      "--------------------------------------------------------------------------------\n",
      "Tested Engagement In Cells\n",
      "--------------------------------------------------------------------------------\n"
     ]
    },
    {
     "data": {
      "text/plain": [
       "0     No\n",
       "1     No\n",
       "2     No\n",
       "3     No\n",
       "4    Yes\n",
       "Name: Tested Engagement In Cells, dtype: object"
      ]
     },
     "metadata": {},
     "output_type": "display_data"
    },
    {
     "name": "stdout",
     "output_type": "stream",
     "text": [
      "--------------------------------------------------------------------------------\n",
      "Tested Proteaseome Inhibitor\n",
      "--------------------------------------------------------------------------------\n"
     ]
    },
    {
     "data": {
      "text/plain": [
       "0    No\n",
       "1    No\n",
       "2    No\n",
       "3    No\n",
       "4    No\n",
       "Name: Tested Proteaseome Inhibitor, dtype: object"
      ]
     },
     "metadata": {},
     "output_type": "display_data"
    },
    {
     "name": "stdout",
     "output_type": "stream",
     "text": [
      "--------------------------------------------------------------------------------\n",
      "Time\n",
      "--------------------------------------------------------------------------------\n"
     ]
    },
    {
     "data": {
      "text/plain": [
       "0    48\n",
       "1    48\n",
       "2    48\n",
       "3    48\n",
       "4    48\n",
       "Name: Time, dtype: object"
      ]
     },
     "metadata": {},
     "output_type": "display_data"
    },
    {
     "name": "stdout",
     "output_type": "stream",
     "text": [
      "--------------------------------------------------------------------------------\n",
      "TPSA\n",
      "--------------------------------------------------------------------------------\n"
     ]
    },
    {
     "data": {
      "text/plain": [
       "0    251.07\n",
       "1    251.07\n",
       "2    251.07\n",
       "3    251.07\n",
       "4    251.07\n",
       "Name: TPSA, dtype: float64"
      ]
     },
     "metadata": {},
     "output_type": "display_data"
    }
   ],
   "source": [
    "for c in protac_pedia_df.columns:\n",
    "    print('-' * 80)\n",
    "    print(c)\n",
    "    print('-' * 80)\n",
    "    display(protac_pedia_df[c].head())"
   ]
  },
  {
   "attachments": {},
   "cell_type": "markdown",
   "metadata": {},
   "source": [
    "Canonize SMILES:"
   ]
  },
  {
   "cell_type": "code",
   "execution_count": 36,
   "metadata": {},
   "outputs": [],
   "source": [
    "canonize = lambda x: Chem.MolToSmiles(Chem.MolFromSmiles(x))\n",
    "protac_pedia_df['PROTAC SMILES'] = protac_pedia_df['PROTAC SMILES'].apply(canonize)"
   ]
  },
  {
   "attachments": {},
   "cell_type": "markdown",
   "metadata": {},
   "source": [
    "Remove stereochemistry:"
   ]
  },
  {
   "cell_type": "code",
   "execution_count": 37,
   "metadata": {},
   "outputs": [],
   "source": [
    "def remove_stereochemistry(smiles):\n",
    "    mol = Chem.MolFromSmiles(smiles)\n",
    "    Chem.RemoveStereochemistry(mol) # NOTE: It's a void function (returns None)\n",
    "    return Chem.MolToSmiles(mol)\n",
    "\n",
    "protac_pedia_df['PROTAC SMILES_nostereo'] = protac_pedia_df['PROTAC SMILES'].apply(remove_stereochemistry)"
   ]
  },
  {
   "attachments": {},
   "cell_type": "markdown",
   "metadata": {},
   "source": [
    "Drop entries with no $DC_{50}$ nor $D_{max}$ values:"
   ]
  },
  {
   "cell_type": "code",
   "execution_count": 38,
   "metadata": {},
   "outputs": [
    {
     "name": "stdout",
     "output_type": "stream",
     "text": [
      "Total lenght: 1203\n",
      "Active/Inactive lenght: 1203\n",
      "No DC50 nor Dmax lenght: 164\n"
     ]
    }
   ],
   "source": [
    "print('Total lenght:', len(protac_pedia_df))\n",
    "print('Active/Inactive lenght:', len(protac_pedia_df.dropna(subset=['Active/Inactive'])))\n",
    "print('No DC50 nor Dmax lenght:', len(protac_pedia_df.dropna(subset=['Dc50', 'Dmax'])))\n",
    "# protac_pedia_df = protac_pedia_df.dropna(subset=['Dc50', 'Dmax'])"
   ]
  },
  {
   "attachments": {},
   "cell_type": "markdown",
   "metadata": {},
   "source": [
    "Remove entries with no Dmax nor DC50 values (and create copies of original columns):"
   ]
  },
  {
   "cell_type": "code",
   "execution_count": 39,
   "metadata": {},
   "outputs": [],
   "source": [
    "# protac_pedia_df.dropna(subset=['Dmax'], inplace=True)\n",
    "# protac_pedia_df.dropna(subset=['Dc50'], inplace=True)\n",
    "protac_pedia_df['Active/Inactive (Original)'] = protac_pedia_df['Active/Inactive'].copy()\n",
    "protac_pedia_df['Dmax (Original)'] = protac_pedia_df['Dmax'].copy()\n",
    "protac_pedia_df['Active/Inactive'] = protac_pedia_df['Active/Inactive'].replace({'Active': True, 'Inactive': False})"
   ]
  },
  {
   "attachments": {},
   "cell_type": "markdown",
   "metadata": {},
   "source": [
    "Clean and convert Dmax and DC50 string entries to float:"
   ]
  },
  {
   "cell_type": "code",
   "execution_count": 40,
   "metadata": {},
   "outputs": [],
   "source": [
    "def clean_string(s: str) -> str:\n",
    "    if 'nan' in s or 'n/a' in s or 'NaN' in s:\n",
    "        return 'nan'\n",
    "    tmp = re.sub(r'[<=>]', '', s) # Remove <, >, =\n",
    "    tmp = re.sub(r'\\(n/a\\)', '0', tmp)\n",
    "    tmp = re.sub(r'NaN', '0', tmp)\n",
    "    tmp = re.sub(r'[\\d]+[-~]', '', tmp) # Remove range, like: 100-200 -> 200\n",
    "    return tmp\n",
    "\n",
    "def deep_clean_string(s: str) -> str:\n",
    "    tmp = clean_string(s)\n",
    "    tmp = re.sub(r'[~<=>% ]', '', s) # Remove ~, <, >, =, % and spaces\n",
    "    return tmp\n",
    "\n",
    "def string_to_float(s: str) -> float:\n",
    "    if 'nM' in s:\n",
    "        tmp = s.replace('nM', '')\n",
    "        tmp = float(tmp) * 1e-9\n",
    "    elif 'uM' in s:\n",
    "        tmp = s.replace('uM', '')\n",
    "        tmp = float(tmp) * 1e-6\n",
    "    else:\n",
    "        tmp = float(s)\n",
    "    return tmp"
   ]
  },
  {
   "cell_type": "code",
   "execution_count": 41,
   "metadata": {},
   "outputs": [
    {
     "data": {
      "text/plain": [
       "0            NaN\n",
       "1            NaN\n",
       "2            NaN\n",
       "3            NaN\n",
       "4       7.275724\n",
       "          ...   \n",
       "1198         NaN\n",
       "1199         NaN\n",
       "1200         NaN\n",
       "1201    6.698970\n",
       "1202    7.522879\n",
       "Name: pDC50, Length: 1203, dtype: float64"
      ]
     },
     "execution_count": 41,
     "metadata": {},
     "output_type": "execute_result"
    }
   ],
   "source": [
    "protac_pedia_df['DC50'] = protac_pedia_df['Dc50'].apply(lambda s: string_to_float(deep_clean_string(str(s))))\n",
    "protac_pedia_df['pDC50'] = -np.log10(protac_pedia_df['DC50'])\n",
    "protac_pedia_df['pDC50']"
   ]
  },
  {
   "cell_type": "code",
   "execution_count": 42,
   "metadata": {},
   "outputs": [
    {
     "data": {
      "text/plain": [
       "0       NaN\n",
       "1       NaN\n",
       "2       NaN\n",
       "3       NaN\n",
       "4       1.0\n",
       "       ... \n",
       "1198    NaN\n",
       "1199    NaN\n",
       "1200    NaN\n",
       "1201    0.9\n",
       "1202    0.9\n",
       "Name: Dmax, Length: 1203, dtype: float64"
      ]
     },
     "execution_count": 42,
     "metadata": {},
     "output_type": "execute_result"
    }
   ],
   "source": [
    "protac_pedia_df['Dmax'] = protac_pedia_df['Dmax'].apply(lambda s: string_to_float(deep_clean_string(str(s)))) / 100\n",
    "protac_pedia_df['Dmax']"
   ]
  },
  {
   "cell_type": "code",
   "execution_count": 43,
   "metadata": {},
   "outputs": [
    {
     "data": {
      "text/plain": [
       "427"
      ]
     },
     "execution_count": 43,
     "metadata": {},
     "output_type": "execute_result"
    }
   ],
   "source": [
    "def is_active(pDC50: float, Dmax: float) -> bool:\n",
    "    # NOTE: pDC50 is in negative log10 units, so to model DC50 < 100nM we just\n",
    "    # need to flip the sign of the inequality.\n",
    "    if pd.notnull(pDC50):\n",
    "        if pDC50 < 7.0:\n",
    "            return False\n",
    "    if pd.notnull(Dmax):\n",
    "        if Dmax < 0.8:\n",
    "            return False\n",
    "    if pd.notnull(pDC50) and pd.notnull(Dmax):\n",
    "        return True if pDC50 >= 7.0 and Dmax >= 0.8 else False\n",
    "    else:\n",
    "        return float('nan')\n",
    "\n",
    "protac_pedia_df['active'] = protac_pedia_df.apply(lambda row: is_active(row['pDC50'], row['Dmax']), axis=1)\n",
    "# protac_pedia_df = protac_pedia_df.dropna(subset=['active'])\n",
    "len(protac_pedia_df['active'].dropna())"
   ]
  },
  {
   "attachments": {},
   "cell_type": "markdown",
   "metadata": {},
   "source": [
    "### Plotting"
   ]
  },
  {
   "cell_type": "code",
   "execution_count": 44,
   "metadata": {},
   "outputs": [
    {
     "name": "stdout",
     "output_type": "stream",
     "text": [
      "Num. active entries: 101\n",
      "Num. inactive entries: 326\n"
     ]
    },
    {
     "data": {
      "image/png": "[encoded data removed]",
      "text/plain": [
       "<Figure size 640x480 with 1 Axes>"
      ]
     },
     "metadata": {},
     "output_type": "display_data"
    },
    {
     "data": {
      "image/png": "[encoded data removed]",
      "text/plain": [
       "<Figure size 640x480 with 1 Axes>"
      ]
     },
     "metadata": {},
     "output_type": "display_data"
    }
   ],
   "source": [
    "tmp = protac_pedia_df.copy().dropna(subset=['active'])\n",
    "new_names = {\n",
    "    'pDC50': '$pDC_{50}$ ($-Log_{10}(M)$)',\n",
    "    'Dmax': '$D_{max}$ (%)',\n",
    "    'active': 'Active',\n",
    "}\n",
    "tmp = tmp.rename(columns=new_names)\n",
    "tmp['$pDC_{50}$'] = tmp['$pDC_{50}$ ($-Log_{10}(M)$)'].astype(float)\n",
    "tmp['$D_{max}$ (%)'] = tmp['$D_{max}$ (%)'].astype(float) * 100\n",
    "\n",
    "print(f'Num. active entries: {len(tmp[tmp[\"Active\"] == True])}')\n",
    "print(f'Num. inactive entries: {len(tmp[tmp[\"Active\"] == False])}')\n",
    "\n",
    "# _ = sns.scatterplot(data=tmp, x='$pDC_{50}$ ($-Log_{10}(M)$)', y='$D_{max}$ (%)', hue='Treatment Hours', palette='icefire')\n",
    "_ = sns.scatterplot(data=tmp, x='$pDC_{50}$ ($-Log_{10}(M)$)', y='$D_{max}$ (%)', hue='Active')\n",
    "plt.xticks(rotation=90)\n",
    "plt.grid(axis='both', alpha=0.8)\n",
    "plt.title('PROTAC-Pedia: $D_{max}$ vs. $pDC_{50}$')\n",
    "# plt.xscale('log')\n",
    "# plt.savefig(os.path.join(data_dir, 'figures', 'Dmax_percentage_vs_DC50.pdf'))\n",
    "# plt.legend(loc='upper left', bbox_to_anchor=(1, 1), ncol=1) #, fancybox=True, shadow=True)\n",
    "plt.show()\n",
    "\n",
    "\n",
    "_ = sns.scatterplot(data=tmp, x='$pDC_{50}$ ($-Log_{10}(M)$)', y='$D_{max}$ (%)', hue='Active/Inactive (Original)')\n",
    "plt.xticks(rotation=90)\n",
    "plt.grid(axis='both', alpha=0.8)\n",
    "plt.title('PROTAC-Pedia: $D_{max}$ vs. $pDC_{50}$')\n",
    "# plt.xscale('log')\n",
    "# plt.savefig(os.path.join(data_dir, 'figures', 'Dmax_percentage_vs_DC50.pdf'))\n",
    "# plt.legend(loc='upper left', bbox_to_anchor=(1, 1), ncol=1) #, fancybox=True, shadow=True)\n",
    "plt.show()"
   ]
  },
  {
   "cell_type": "code",
   "execution_count": 45,
   "metadata": {},
   "outputs": [
    {
     "data": {
      "text/plain": [
       "[]"
      ]
     },
     "execution_count": 45,
     "metadata": {},
     "output_type": "execute_result"
    },
    {
     "data": {
      "image/png": "[encoded data removed]",
      "text/plain": [
       "<Figure size 1000x600 with 1 Axes>"
      ]
     },
     "metadata": {},
     "output_type": "display_data"
    }
   ],
   "source": [
    "tmp['$D_{max}$ (%)'] = protac_pedia_df['Dmax'].astype(float) * 100\n",
    "# Change the bin size by rounding\n",
    "t = (tmp[['$pDC_{50}$', '$D_{max}$ (%)']] * 0.5).round(1) / 0.5\n",
    "# Change plot/figure size\n",
    "plt.figure(figsize=(10, 6))\n",
    "sns.boxplot(data=t, x='$pDC_{50}$', y='$D_{max}$ (%)')\n",
    "plt.xticks(rotation=90)\n",
    "plt.grid(axis='y', alpha=0.7)\n",
    "plt.title('PROTAC-Pedia: $D_{max}$ vs. $pDC_{50}$')\n",
    "plt.plot()"
   ]
  },
  {
   "cell_type": "code",
   "execution_count": 46,
   "metadata": {},
   "outputs": [
    {
     "data": {
      "text/plain": [
       "[]"
      ]
     },
     "execution_count": 46,
     "metadata": {},
     "output_type": "execute_result"
    },
    {
     "data": {
      "image/png": "[encoded data removed]",
      "text/plain": [
       "<Figure size 640x480 with 1 Axes>"
      ]
     },
     "metadata": {},
     "output_type": "display_data"
    }
   ],
   "source": [
    "tmp['$D_{max}$ (%)'] = protac_pedia_df['Dmax'].astype(float)\n",
    "tmp = tmp.dropna(subset=['$D_{max}$ (%)'])\n",
    "# Change the bin size by rounding\n",
    "t = (tmp[['$pDC_{50}$', '$D_{max}$ (%)']] * (1 / 1)).round(1) / (1 / 1)\n",
    "t['$D_{max}$ (%)'] = (t['$D_{max}$ (%)'] * 100).astype(int)\n",
    "_ = sns.boxplot(data=t, y='$pDC_{50}$', x='$D_{max}$ (%)')\n",
    "plt.xticks(rotation=90)\n",
    "plt.grid(axis='y', alpha=0.7)\n",
    "plt.title('PROTAC-Pedia: $D_{max}$ vs. $pDC_{50}$')\n",
    "plt.plot()"
   ]
  },
  {
   "cell_type": "code",
   "execution_count": 47,
   "metadata": {},
   "outputs": [
    {
     "data": {
      "image/png": "[encoded data removed]",
      "text/plain": [
       "<Figure size 640x480 with 1 Axes>"
      ]
     },
     "metadata": {},
     "output_type": "display_data"
    },
    {
     "data": {
      "image/png": "[encoded data removed]",
      "text/plain": [
       "<Figure size 640x480 with 1 Axes>"
      ]
     },
     "metadata": {},
     "output_type": "display_data"
    }
   ],
   "source": [
    "_ = sns.histplot(data=protac_pedia_df['Dmax'].astype(float) * 100)\n",
    "# plt.xticks(rotation=90)\n",
    "plt.grid(axis='y', alpha=0.9)\n",
    "plt.title('PROTAC-Pedia: $D_{max}$ (%)')\n",
    "plt.show()\n",
    "\n",
    "_ = sns.histplot(data=protac_pedia_df['pDC50'])\n",
    "# plt.xticks(rotation=90)\n",
    "plt.grid(axis='y', alpha=0.9)\n",
    "plt.title('PROTAC-Pedia: $pDC_{50}$ (-Log10(M))')\n",
    "plt.show()"
   ]
  },
  {
   "attachments": {},
   "cell_type": "markdown",
   "metadata": {},
   "source": [
    "### E3 Ligase\n",
    "\n",
    "#### Get Amino Acid Sequence"
   ]
  },
  {
   "attachments": {},
   "cell_type": "markdown",
   "metadata": {},
   "source": [
    "Assigning the gene ID to the E3 ligase entries:"
   ]
  },
  {
   "cell_type": "code",
   "execution_count": 48,
   "metadata": {},
   "outputs": [
    {
     "name": "stdout",
     "output_type": "stream",
     "text": [
      "['VHL' 'Cereblon' 'Iap' 'Mdm2' 'Ubr1' 'RNF4' 'RNF114' 'cIAP1']\n"
     ]
    }
   ],
   "source": [
    "print(protac_pedia_df['E3 Ligase'].unique())"
   ]
  },
  {
   "cell_type": "code",
   "execution_count": 49,
   "metadata": {},
   "outputs": [
    {
     "data": {
      "text/plain": [
       "0       P40337\n",
       "1       P40337\n",
       "2       P40337\n",
       "3       P40337\n",
       "4       P40337\n",
       "         ...  \n",
       "1198       NaN\n",
       "1199       NaN\n",
       "1200       NaN\n",
       "1201       NaN\n",
       "1202    P40337\n",
       "Name: e3_ligase_gene, Length: 1203, dtype: object"
      ]
     },
     "execution_count": 49,
     "metadata": {},
     "output_type": "execute_result"
    }
   ],
   "source": [
    "e3ligase2genes = {\n",
    "    'VHL': 'P40337',\n",
    "    'CRBN': 'Q96SW2',\n",
    "    'Cereblon': 'Q96SW2',\n",
    "    'DCAF11': 'Q8TEB1',\n",
    "    'DCAF15': 'Q66K64',\n",
    "    'DCAF16': 'Q9NXF7',\n",
    "    'MDM2': 'Q00987',\n",
    "    'XIAP': 'P98170',\n",
    "    'CIAP1': 'Q7Z460',\n",
    "    'IAP': 'P98170', # I couldn't find the Uniprot ID for this one, so it's XIAP\n",
    "    'AHR': 'P35869',\n",
    "    'RNF4': 'P78317',\n",
    "    'RNF114': 'Q9Y508',\n",
    "    'FEM1B': 'Q9UK73',\n",
    "    'UBR1': 'Q8IWV7',\n",
    "}\n",
    "protac_pedia_df['e3_ligase_gene'] = protac_pedia_df['E3 Ligase'].str.upper().map(e3ligase2genes)\n",
    "protac_pedia_df['e3_ligase_gene']"
   ]
  },
  {
   "cell_type": "code",
   "execution_count": 55,
   "metadata": {},
   "outputs": [],
   "source": [
    "import requests\n",
    "\n",
    "def get_seq(uniprot_id: str, local_dict: dict) -> str:\n",
    "    if pd.isna(uniprot_id):\n",
    "        return None\n",
    "    if ',' in uniprot_id:\n",
    "        for u in uniprot_id.strip().split(','):\n",
    "            if u in local_dict:\n",
    "                return local_dict[u]\n",
    "            else:\n",
    "                ret = get_seq(u, local_dict)\n",
    "                if ret is not None:\n",
    "                    local_dict[u] = ret\n",
    "        return None\n",
    "    if uniprot_id in local_dict:\n",
    "        return local_dict[uniprot_id]\n",
    "    fasta_url = f'http://www.uniprot.org/uniprot/{uniprot_id}.fasta'\n",
    "    try:\n",
    "        response = requests.post(fasta_url)\n",
    "        cData = ''.join(response.text)\n",
    "        i = cData.index('\\n') + 1\n",
    "        seq = cData[i:].rstrip().replace('\\n', '')\n",
    "        # print(f'Getting {cData} from URL: {fasta_url}')\n",
    "        return seq\n",
    "    except:\n",
    "        print(f'Error getting {uniprot_id} from URL: {fasta_url}')\n",
    "        return None"
   ]
  },
  {
   "cell_type": "code",
   "execution_count": 57,
   "metadata": {},
   "outputs": [
    {
     "name": "stdout",
     "output_type": "stream",
     "text": [
      "dict_keys(['Q00987', 'Q7Z460', 'P78317', 'P98170', 'Q8IWV7', 'Q9Y508', 'P40337', 'Unknown'])\n"
     ]
    }
   ],
   "source": [
    "e3_ligase_sequences_filepath = os.path.join(data_dir, 'processed', 'e3_ligase_sequences.pkl')\n",
    "failed = False\n",
    "if os.path.exists(e3_ligase_sequences_filepath):\n",
    "    with open(e3_ligase_sequences_filepath, 'rb') as f:\n",
    "        e3_seqs = pickle.load(f)\n",
    "else:\n",
    "    e3_seqs = {}\n",
    "\n",
    "cID = list(set(protac_pedia_df['e3_ligase_gene'].tolist()))\n",
    "for uniprot_id in cID:\n",
    "    seq = get_seq(uniprot_id, e3_seqs)\n",
    "    if seq is not None:\n",
    "        e3_seqs[uniprot_id] = seq\n",
    "    else:\n",
    "        failed = True\n",
    "if not failed:\n",
    "    with open(e3_ligase_sequences_filepath, 'wb') as f:\n",
    "        pickle.dump(e3_seqs, f)\n",
    "# Add 'Unknown' sequences corresponding to 'Unknown' genes/POIs\n",
    "e3_seqs['Unknown'] = 'Unknown'\n",
    "print(e3_seqs.keys())"
   ]
  },
  {
   "cell_type": "code",
   "execution_count": 59,
   "metadata": {},
   "outputs": [
    {
     "data": {
      "text/plain": [
       "0    MPRRAENWDEAEVGAEEAGVEEYGPEEDGGEESGAEESGPEESGPEELGAEEEMEAGRPRPVLRSVNSREPSQVIFCNRSPRVVLPVWLNFDGEPQ...\n",
       "1    MPRRAENWDEAEVGAEEAGVEEYGPEEDGGEESGAEESGPEESGPEELGAEEEMEAGRPRPVLRSVNSREPSQVIFCNRSPRVVLPVWLNFDGEPQ...\n",
       "2    MPRRAENWDEAEVGAEEAGVEEYGPEEDGGEESGAEESGPEESGPEELGAEEEMEAGRPRPVLRSVNSREPSQVIFCNRSPRVVLPVWLNFDGEPQ...\n",
       "3    MPRRAENWDEAEVGAEEAGVEEYGPEEDGGEESGAEESGPEESGPEELGAEEEMEAGRPRPVLRSVNSREPSQVIFCNRSPRVVLPVWLNFDGEPQ...\n",
       "4    MPRRAENWDEAEVGAEEAGVEEYGPEEDGGEESGAEESGPEESGPEELGAEEEMEAGRPRPVLRSVNSREPSQVIFCNRSPRVVLPVWLNFDGEPQ...\n",
       "Name: e3_ligase_seq, dtype: object"
      ]
     },
     "execution_count": 59,
     "metadata": {},
     "output_type": "execute_result"
    }
   ],
   "source": [
    "protac_pedia_df['e3_ligase_seq'] = protac_pedia_df['e3_ligase_gene'].map(e3_seqs)\n",
    "protac_pedia_df['e3_ligase_seq'].head()"
   ]
  },
  {
   "attachments": {},
   "cell_type": "markdown",
   "metadata": {},
   "source": [
    "#### Aggregating E3 Ligase Classes"
   ]
  },
  {
   "cell_type": "code",
   "execution_count": 60,
   "metadata": {},
   "outputs": [
    {
     "name": "stdout",
     "output_type": "stream",
     "text": [
      "column: E3 Ligase  (#unique: 8)\n",
      "                  0    1    2     3      4     5       6     7\n",
      "E3 Ligase  Cereblon  VHL  Iap  Mdm2  cIAP1  Ubr1  RNF114  RNF4\n",
      "size            691  444   42    15      7     2       1     1 \n",
      "\n"
     ]
    },
    {
     "data": {
      "image/png": "[encoded data removed]",
      "text/plain": [
       "<Figure size 640x480 with 1 Axes>"
      ]
     },
     "metadata": {},
     "output_type": "display_data"
    }
   ],
   "source": [
    "tmp = protac_pedia_df.groupby('E3 Ligase', as_index=False).size().sort_values('size', ascending=False, ignore_index=True)\n",
    "print(f'column: E3 Ligase  (#unique: {tmp.shape[0]:,})')\n",
    "print(tmp.head(20).T, '\\n')\n",
    "# Plotting\n",
    "sns.barplot(data=tmp.head(25), x='E3 Ligase', y='size')\n",
    "plt.xticks(rotation=90)\n",
    "plt.grid(axis='y', alpha=0.8)\n",
    "plt.title(f'Top-25 Most frequent E3 Ligase')\n",
    "# plt.savefig(os.path.join(data_dir, 'figures', 'e3 Ligase_distribution.pdf'))\n",
    "plt.show()"
   ]
  },
  {
   "cell_type": "code",
   "execution_count": 61,
   "metadata": {},
   "outputs": [],
   "source": [
    "for i in range(len(protac_pedia_df['E3 Ligase'])):\n",
    "    if 'IAP' in str(protac_pedia_df.at[i, 'E3 Ligase']).upper():\n",
    "        protac_pedia_df.at[i, 'E3 Ligase'] = 'IAP'\n",
    "    elif 'DCAF' in str(protac_pedia_df.at[i, 'E3 Ligase']):\n",
    "        protac_pedia_df.at[i, 'E3 Ligase'] = 'DCAF'\n",
    "    elif 'RNF' in str(protac_pedia_df.at[i, 'E3 Ligase']):\n",
    "        protac_pedia_df.at[i, 'E3 Ligase'] = 'RNF'\n",
    "protac_pedia_df['E3 Ligase'] = protac_pedia_df['E3 Ligase'].str.replace('Cereblon', 'CRBN')\n",
    "protac_pedia_df['E3 Ligase'] = protac_pedia_df['E3 Ligase'].str.replace('Mdm2', 'MDM2')"
   ]
  },
  {
   "attachments": {},
   "cell_type": "markdown",
   "metadata": {},
   "source": [
    "### POI: Apply Gene Mutations"
   ]
  },
  {
   "attachments": {},
   "cell_type": "markdown",
   "metadata": {},
   "source": [
    "For consistency and comparison with PROTAC-DB, if sequences in PROTAC-Pedia are _not_ present in PROTAC-DB, we mark them as \"Unknown\":"
   ]
  },
  {
   "cell_type": "code",
   "execution_count": 63,
   "metadata": {},
   "outputs": [
    {
     "name": "stdout",
     "output_type": "stream",
     "text": [
      "dict_keys(['Q99640', 'Q13153', 'P00519', 'Q52WX2', 'P29762', 'Q13164', 'Q16288', 'O14874', 'Q00537', 'P21802', 'O75676', 'P04629', 'O14757', 'Q15759', 'P07948', 'P41240', 'P23458', 'P45983', 'P45984', 'P30530', 'P01116', 'P54646', 'Q9UBN7', 'P51451', 'Q15208', 'Q13043', 'Q86UX6', 'P51532', 'P48729', 'Q9BYT3', 'Q13233', 'P09874', 'P78356', 'Q15418', 'Q92918', 'Q8TDR2', 'Q13470', 'O15164', 'P49841', 'O60674', 'P49840', 'P07437', 'P16591', 'O94804', 'P53355', 'Q16584', 'O75533', 'O15197', 'Q92831', 'Q9H8M2', 'P10415', 'O75460', 'Q16644', 'P31749', 'P11362', 'P49759', 'Q9UK32', 'Q9Y4K4', 'P35968', 'Q96QT4', 'Q9P2K8', 'Q15119', 'P23443', 'Q92793', 'P51686', 'Q16659', 'O75385', 'P40763', 'Q12866', 'Q9UQ88', 'Q16832', 'P29597', 'P54760', 'Q96S38', 'Q96L34', 'Q8IXJ6', 'O00444', 'P51957', 'Q7KZI7', 'Q96S53', 'Q9UBY0', 'Q9UM73', 'P08581', 'P37840', 'Q9NRH2', 'O43683', 'P42336', 'Q12834', 'Q96T83', 'Q9UGN5', 'P50613', 'O14578', 'Q15910', 'P15056', 'Q8NI60', 'P54753', 'Q96SW2', 'Q16620', 'O60285', 'O94768', 'P21709', 'P53671', 'P04626', 'Q9BVS4', 'P10721', 'Q9Y6F1', 'Q9NYL2', 'O00311', 'P27448', 'O43318', 'Q13882', 'Q09472', 'P61964', 'Q15120', 'P24941', 'Q6AI14', 'O94921', 'P36894', 'Q96D53', 'Q8N5S9', 'Q16678', 'Q15118', 'Q96GD4', 'P42858', 'Q96PY6', 'O14965', 'Q9NZQ7', 'Q9BWU1', 'P29320', 'Q8TAS1', 'P17948', 'Q8IW41', 'Q460N5', 'P55055', 'Q86YV5', 'Q12851', 'Q8N4C8', 'Q15131', 'P11802', 'O75530', 'Q8TF76', 'P41743', 'P53667', 'Q8TD19', 'Q07912', 'Q86Z02', 'P19634', 'Q9H2K8', 'Q00535', 'Q00534', 'P49336', 'P62942', 'Q00613', 'Q8IVH8', 'Q86U86', 'P30291', 'P53778', 'Q9Y6A5', 'P48426', 'P51812', 'P51617', 'Q9UBE8', 'Q9H0K1', 'Q06187', 'O15379', 'Q9NWZ3', 'Q00536', 'P14902', 'P48736', 'P41182', 'Q6PHR2', 'P14174', 'Q14004', 'Q00987', 'Q9Y243', 'O60760', 'P36897', 'Q07889', 'P29323', 'Q13133', 'O60307', 'P10636', 'P48730', 'Q02750', 'Q14289', 'P42680', 'P12931', 'P50750', 'P06239', 'Q4ZJI4', 'P19525', 'Q14680', 'Q03111', 'P33981', 'Q13163', 'Q9Y2K2', 'P52333', 'P51531', 'Q5S007', 'Q96BR1', 'P35348', 'P36507', 'Q9UHD2', 'P29317', 'O15264', 'P29373', 'Q06124', 'Q5TCX8', 'P06241', 'O14976', 'P01106', 'P49674', 'P00533', 'Q15022', 'P21127', 'Q6P5Z2', 'Q07820', 'P10275', 'P53350', 'O43924', 'Unknown', 'Q9UEE5', 'Q16186', 'P49137', 'Q08881', 'Q8TBX8', 'Q9NSY1', 'P06730', 'Q8TEA7', 'Q13131', 'Q13546', 'O14744', 'P03372', 'P07947', 'Q9HBH9', 'O95835', 'P40337', 'Q15059', 'Q2M2I8', 'P31751', 'Q9BY41', 'Q07002', 'Q9P1W9', 'Q07817', 'P08069', 'Q96RU7', 'Q8N2I9', 'P51955', 'Q9Y616', 'Q9UL54', 'P35613', 'Q9NYV4', 'P53779', 'Q9NPI1', 'Q16539', 'P36888', 'O96013', 'Q12852', 'P04035', 'P14679', 'P06493', 'O60566', 'O60885', 'Q92769', 'P51956', 'O00418', 'O43353', 'P11474', 'Q92830', 'Q13547', 'Q8N165', 'P42684', 'Q05397', 'P25440', 'P10276', 'P07332', 'P35991', 'Q91820', 'Q96SZ6', 'P31750', 'Q92934', 'O15155', 'P62508', 'P62937', 'P68400', 'Q13490', 'Q96JP5', 'O60885, P25440', 'P11802, Q00534', 'O15264, Q16539', 'P51531, P51532', 'O60885, Q15059', 'O75530, Q15022, Q15910', 'O60885, P53350', 'P36507, Q02750', 'Q92830, Q92831', 'O14976, O75385, P06239, P07332, P11802, P16591, P24941, P30291, P35991, P36888, P42680, P50613, P50750, P51451, P53671, Q00534, Q00537, Q05397, Q08881, Q13131, Q14004, Q14289, Q2M2I8, Q7KZI7, Q91820, Q96GD4, Q96SZ6, Q9NYV4', 'P24941, P50750', 'O15379, Q13547, Q92769', 'P00533, P04626', 'P08069, P12931', 'Q9H8M2, Q9NPI1', 'Q07820, Q92934', 'O60674, P23458, P52333', 'Q05397, Q14289', 'P29373, Q13490', 'O60674, P23458', 'O60885, P25440, Q15059'])\n"
     ]
    }
   ],
   "source": [
    "poi_seq_protac_pedia_filepath = os.path.join(data_dir, 'processed', 'poi_sequences_protac_db_and_pedia.pkl')\n",
    "poi_seq_protac_db_filepath = os.path.join(data_dir, 'processed', 'poi_sequences.pkl')\n",
    "\n",
    "poi_seqs = {}\n",
    "if os.path.exists(poi_seq_protac_pedia_filepath):\n",
    "    with open(poi_seq_protac_pedia_filepath, 'rb') as f:\n",
    "        poi_seqs.update(pickle.load(f))\n",
    "if os.path.exists(poi_seq_protac_db_filepath):\n",
    "    with open(poi_seq_protac_db_filepath, 'rb') as f:\n",
    "        poi_seqs.update(pickle.load(f))\n",
    "\n",
    "\n",
    "cID = list(set(protac_pedia_df['Target'].tolist()))\n",
    "for uniprot_id in cID:\n",
    "    seq = get_seq(uniprot_id, poi_seqs)\n",
    "    if seq is not None:\n",
    "        poi_seqs[uniprot_id] = seq\n",
    "    else:\n",
    "        failed = True\n",
    "if not failed:\n",
    "    with open(poi_seq_protac_db_filepath, 'wb') as f:\n",
    "        pickle.dump(poi_seqs, f)\n",
    "# Add 'Unknown' sequences corresponding to 'Unknown' genes/POIs\n",
    "poi_seqs['Unknown'] = 'Unknown'\n",
    "print(poi_seqs.keys())"
   ]
  },
  {
   "attachments": {},
   "cell_type": "markdown",
   "metadata": {},
   "source": [
    "NOTE! Some PROTAC-Pedia entries have multiple POI targets, we will only keep the first one:\n",
    "\n",
    "We name the new column \"Uniprot\" for consistency with PROTAC-DB."
   ]
  },
  {
   "cell_type": "code",
   "execution_count": 64,
   "metadata": {},
   "outputs": [
    {
     "name": "stdout",
     "output_type": "stream",
     "text": [
      "Num. entries: 1203\n",
      "Num. entries with no target: 1203\n"
     ]
    }
   ],
   "source": [
    "print(f'Num. entries: {len(protac_pedia_df)}')\n",
    "print(f'Num. entries with no target: {len(protac_pedia_df.dropna(subset=[\"Target\"]))}')\n",
    "protac_pedia_df = protac_pedia_df.dropna(subset=['Target'])"
   ]
  },
  {
   "cell_type": "code",
   "execution_count": 65,
   "metadata": {},
   "outputs": [],
   "source": [
    "protac_pedia_df.loc[:, 'Uniprot'] = protac_pedia_df.apply(lambda row: row['Target'].replace(' ', '').split(',')[0], axis=1)"
   ]
  },
  {
   "attachments": {},
   "cell_type": "markdown",
   "metadata": {},
   "source": [
    "Finally, get the POI sequence from the fasta-scraped sequences:"
   ]
  },
  {
   "cell_type": "code",
   "execution_count": 66,
   "metadata": {},
   "outputs": [
    {
     "name": "stdout",
     "output_type": "stream",
     "text": [
      "1203\n",
      "0\n"
     ]
    }
   ],
   "source": [
    "# protac_pedia_df['poi_seq'] = protac_pedia_df.apply(lambda row: seqs.get(row['Uniprot'], 'Unknown'), axis=1)\n",
    "protac_pedia_df['poi_seq'] = protac_pedia_df['Uniprot'].map(poi_seqs)\n",
    "print(len(protac_pedia_df))\n",
    "print(len(protac_pedia_df[protac_pedia_df['poi_seq'] == 'Unknown']))"
   ]
  },
  {
   "attachments": {},
   "cell_type": "markdown",
   "metadata": {},
   "source": [
    "Function for applying mutations:"
   ]
  },
  {
   "cell_type": "code",
   "execution_count": 67,
   "metadata": {},
   "outputs": [],
   "source": [
    "def apply_mutation(uniprot: str, gene: str, seq: str):\n",
    "    if len(gene.split(' ')) == 1:\n",
    "        return seq\n",
    "    # TODO: Just use a dictionary and replace these sequences straightaway...\n",
    "    exceptions = {\n",
    "        ('O60885', 'BRD4 BD1'): seqs['O60885'],\n",
    "        ('P10275', 'AR-V7'): seqs['P10275'],\n",
    "        ('P00533', 'EGFR e19d'): seqs['P10275'], # TODO: Not working... why???\n",
    "    }\n",
    "    if (uniprot, gene) in exceptions:\n",
    "        return exceptions[(uniprot, gene)]\n",
    "    else:\n",
    "        mutation = gene.split(' ')[1]\n",
    "        operations = mutation.split('/') if '/' in mutation else [mutation]\n",
    "        del_ops = 0\n",
    "        for op in operations:\n",
    "            if 'del' in op.lower():\n",
    "                idx = int(op.split('del')[1]) - 1\n",
    "                print(f'Operation: {op} on ...{seq[idx-8:idx]}[{seq[idx]}]{seq[idx+1:idx+8]}...')\n",
    "                seq = seq[:idx] + seq[idx + 1:]\n",
    "                del_ops += 1\n",
    "            else:\n",
    "                # Replace aminoacid at a specific index\n",
    "                # NOTE: The indexing starts from one, not zero.\n",
    "                # NOTE: If a deletion has happened before, the index is still\n",
    "                # relative to the whole sequence lenght (weird...)\n",
    "                curr, idx, new = op[0].upper(), int(op[1:-1])-1, op[-1].upper()\n",
    "                idx -= del_ops\n",
    "                print(f'Operation: {op} on ...{seq[idx-8:idx]}[{seq[idx]} -> {new}]{seq[idx+1:idx+8]}...')\n",
    "                assert curr == seq[idx], f'Replacement at position {idx} failed. Expected \"{curr}\", found: \"{seq[idx]}\"'\n",
    "                seq = seq[:idx] + new + seq[idx + 1:]\n",
    "        return seq"
   ]
  },
  {
   "attachments": {},
   "cell_type": "markdown",
   "metadata": {},
   "source": [
    "NOTE! There is no gene information in PROTAC-Pedia, so we cannot apply mutations to the POI sequences."
   ]
  },
  {
   "attachments": {},
   "cell_type": "markdown",
   "metadata": {},
   "source": [
    "## Clean Cell Type"
   ]
  },
  {
   "attachments": {},
   "cell_type": "markdown",
   "metadata": {},
   "source": [
    "NOTE! Some PROTAC-Pedia entries have multiple cell types, we will only keep the first one:"
   ]
  },
  {
   "cell_type": "code",
   "execution_count": 68,
   "metadata": {},
   "outputs": [
    {
     "name": "stdout",
     "output_type": "stream",
     "text": [
      "0       MOLT-4\n",
      "1       MOLT-4\n",
      "2       MOLT-4\n",
      "3       MOLT-4\n",
      "4       MOLT-4\n",
      "         ...  \n",
      "1198      A549\n",
      "1199       nan\n",
      "1200       nan\n",
      "1201      A549\n",
      "1202      Huh7\n",
      "Name: cell_type, Length: 1203, dtype: object\n"
     ]
    }
   ],
   "source": [
    "def get_cell_type(cell):\n",
    "    if ',' in str(cell):\n",
    "        divider = ','\n",
    "    else:\n",
    "        divider = ';'\n",
    "    return str(cell).replace(' ', '').split(divider)[0].rstrip()\n",
    "\n",
    "protac_pedia_df['cell_type'] = protac_pedia_df['Cells'].fillna('Unknown')\n",
    "protac_pedia_df['cell_type'] = protac_pedia_df['Cells'].apply(lambda cell: get_cell_type(cell))\n",
    "print(protac_pedia_df['cell_type'])"
   ]
  },
  {
   "attachments": {},
   "cell_type": "markdown",
   "metadata": {},
   "source": [
    "## Save DB"
   ]
  },
  {
   "attachments": {},
   "cell_type": "markdown",
   "metadata": {},
   "source": [
    "Save curated PROTAC-Pedia to CSV:"
   ]
  },
  {
   "cell_type": "code",
   "execution_count": 69,
   "metadata": {},
   "outputs": [],
   "source": [
    "old2new = {\n",
    "    'PROTAC SMILES_nostereo': 'Smiles_nostereo',\n",
    "    'PROTAC SMILES': 'Smiles',\n",
    "    'E3 Ligase': 'e3_ligase',\n",
    "}\n",
    "protac_pedia_df = protac_pedia_df.rename(columns=old2new)\n",
    "protac_pedia_df['poi_gene_id'] = 'Unknown'"
   ]
  },
  {
   "cell_type": "code",
   "execution_count": 70,
   "metadata": {},
   "outputs": [],
   "source": [
    "# df_file = os.path.join(data_dir, 'processed', 'protac-pedia_DC50_Dmax.csv')\n",
    "# protac_pedia_df.to_csv(df_file, index=False)\n",
    "df_file = os.path.join(data_dir, 'processed', 'protac_pedia_dc50_dmax.csv')\n",
    "protac_pedia_df.to_csv(df_file, index=False)"
   ]
  },
  {
   "attachments": {},
   "cell_type": "markdown",
   "metadata": {},
   "source": [
    "## DEPRECATED: Compare with PROTAC-DB"
   ]
  },
  {
   "attachments": {},
   "cell_type": "markdown",
   "metadata": {},
   "source": [
    "Load PROTAC-DB training and test data:"
   ]
  },
  {
   "cell_type": "code",
   "execution_count": 82,
   "metadata": {},
   "outputs": [],
   "source": [
    "TRAIN_SPLIT_PERC = 0.8\n",
    "TEST_SPLIT_PERC = 1.0 - TRAIN_SPLIT_PERC"
   ]
  },
  {
   "cell_type": "code",
   "execution_count": 83,
   "metadata": {},
   "outputs": [
    {
     "name": "stdout",
     "output_type": "stream",
     "text": [
      "Train data len.: 353\n",
      "Test data len.: 76\n",
      "Train data len.: 353 (binary classification)\n",
      "Test data len.: 76 (binary classification)\n"
     ]
    }
   ],
   "source": [
    "splitter = GroupShuffleSplit(test_size=TEST_SPLIT_PERC, n_splits=2, random_state=42)\n",
    "# Split \"entire\" dataset\n",
    "split = splitter.split(protac_db_df, groups=protac_db_df['Smiles'])\n",
    "train_inds, test_inds = next(split)\n",
    "train_df, test_df = protac_db_df.iloc[train_inds], protac_db_df.iloc[test_inds]\n",
    "# Split datasets for binary classification\n",
    "bin_df = protac_db_df.dropna(subset=['active'])\n",
    "split = splitter.split(bin_df, groups=bin_df['Smiles'])\n",
    "train_inds, test_inds = next(split)\n",
    "train_bin_df, test_bin_df = bin_df.iloc[train_inds], bin_df.iloc[test_inds]\n",
    "\n",
    "print(f'Train data len.: {len(train_df)}')\n",
    "print(f'Test data len.: {len(test_df)}')\n",
    "print(f'Train data len.: {len(train_bin_df)} (binary classification)')\n",
    "print(f'Test data len.: {len(test_bin_df)} (binary classification)')"
   ]
  },
  {
   "attachments": {},
   "cell_type": "markdown",
   "metadata": {},
   "source": [
    "Get entries of PROTAC-PEDIA which are __not__ in the train dataset of PROTAC-DB (they might be used to test and compare _both_ DeepPROTACs and our approach):"
   ]
  },
  {
   "cell_type": "code",
   "execution_count": 84,
   "metadata": {},
   "outputs": [
    {
     "name": "stdout",
     "output_type": "stream",
     "text": [
      "1115\n"
     ]
    }
   ],
   "source": [
    "unseen_df = protac_pedia_df[~protac_pedia_df['PROTAC SMILES_nostereo'].isin(protac_db_df['Smiles_nostereo'])]\n",
    "print(len(unseen_df))"
   ]
  },
  {
   "cell_type": "code",
   "execution_count": 85,
   "metadata": {},
   "outputs": [
    {
     "name": "stdout",
     "output_type": "stream",
     "text": [
      "Num. active entries: 51\n",
      "Num. inactive entries: 297\n"
     ]
    },
    {
     "data": {
      "image/png": "[encoded data removed]",
      "text/plain": [
       "<Figure size 640x480 with 1 Axes>"
      ]
     },
     "metadata": {},
     "output_type": "display_data"
    },
    {
     "data": {
      "image/png": "[encoded data removed]",
      "text/plain": [
       "<Figure size 640x480 with 1 Axes>"
      ]
     },
     "metadata": {},
     "output_type": "display_data"
    }
   ],
   "source": [
    "tmp = unseen_df.copy()\n",
    "new_names = {\n",
    "    'pDC50': '$pDC_{50}$ ($-Log_{10}(M)$)',\n",
    "    'Dmax': '$D_{max}$ (%)',\n",
    "    'active': 'Active',\n",
    "}\n",
    "tmp = tmp.rename(columns=new_names)\n",
    "tmp['$pDC_{50}$'] = tmp['$pDC_{50}$ ($-Log_{10}(M)$)'].astype(float)\n",
    "tmp['$D_{max}$ (%)'] = tmp['$D_{max}$ (%)'].astype(float) * 100\n",
    "\n",
    "print(f'Num. active entries: {len(tmp[tmp[\"Active\"] == True])}')\n",
    "print(f'Num. inactive entries: {len(tmp[tmp[\"Active\"] == False])}')\n",
    "\n",
    "# _ = sns.scatterplot(data=tmp, x='$pDC_{50}$ ($-Log_{10}(M)$)', y='$D_{max}$ (%)', hue='Treatment Hours', palette='icefire')\n",
    "_ = sns.scatterplot(data=tmp, x='$pDC_{50}$ ($-Log_{10}(M)$)', y='$D_{max}$ (%)', hue='Active')\n",
    "plt.xticks(rotation=90)\n",
    "plt.grid(axis='both', alpha=0.8)\n",
    "plt.title('PROTAC-Pedia: $D_{max}$ vs. $pDC_{50}$')\n",
    "# plt.xscale('log')\n",
    "# plt.savefig(os.path.join(data_dir, 'figures', 'Dmax_percentage_vs_DC50.pdf'))\n",
    "# plt.legend(loc='upper left', bbox_to_anchor=(1, 1), ncol=1) #, fancybox=True, shadow=True)\n",
    "plt.show()\n",
    "\n",
    "\n",
    "_ = sns.scatterplot(data=tmp, x='$pDC_{50}$ ($-Log_{10}(M)$)', y='$D_{max}$ (%)', hue='Active/Inactive (Original)')\n",
    "plt.xticks(rotation=90)\n",
    "plt.grid(axis='both', alpha=0.8)\n",
    "plt.title('PROTAC-Pedia: $D_{max}$ vs. $pDC_{50}$')\n",
    "# plt.xscale('log')\n",
    "# plt.savefig(os.path.join(data_dir, 'figures', 'Dmax_percentage_vs_DC50.pdf'))\n",
    "# plt.legend(loc='upper left', bbox_to_anchor=(1, 1), ncol=1) #, fancybox=True, shadow=True)\n",
    "plt.show()"
   ]
  },
  {
   "attachments": {},
   "cell_type": "markdown",
   "metadata": {},
   "source": [
    "## Get E3Ligase-PROTAC-POI Complex PDBs\n",
    "\n",
    "DeepPROTACs requires 3D information about the complexes between the E3 ligase, the PROTAC and the POI.\n",
    "\n",
    "<!-- We will use the PDBs from the PROTAC-DB dataset. -->"
   ]
  },
  {
   "cell_type": "code",
   "execution_count": null,
   "metadata": {},
   "outputs": [],
   "source": [
    "unseen_df['Ligand PDB'].dropna()"
   ]
  }
 ],
 "metadata": {
  "kernelspec": {
   "display_name": "env-thesis",
   "language": "python",
   "name": "python3"
  },
  "language_info": {
   "codemirror_mode": {
    "name": "ipython",
    "version": 3
   },
   "file_extension": ".py",
   "mimetype": "text/x-python",
   "name": "python",
   "nbconvert_exporter": "python",
   "pygments_lexer": "ipython3",
   "version": "3.11.0"
  },
  "orig_nbformat": 4
 },
 "nbformat": 4,
 "nbformat_minor": 2
}
