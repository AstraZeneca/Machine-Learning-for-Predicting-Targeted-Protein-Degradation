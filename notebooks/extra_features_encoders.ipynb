{
 "cells": [
  {
   "cell_type": "code",
   "execution_count": 1,
   "metadata": {},
   "outputs": [],
   "source": [
    "from IPython.display import display_html\n",
    "\n",
    "import logging\n",
    "import warnings\n",
    "import re\n",
    "import os\n",
    "import numpy as np\n",
    "import pandas as pd\n",
    "import pickle\n",
    "import sklearn.metrics\n",
    "import pickle\n",
    "import requests\n",
    "import collections\n",
    "import matplotlib.pyplot as plt\n",
    "import seaborn as sns\n",
    "from rdkit import Chem\n",
    "from rdkit.Chem import AllChem, DataStructs, MACCSkeys\n",
    "from datetime import date\n",
    "from typing import Literal, Optional, Union, List, Dict, Tuple, Any, Callable\n",
    "from collections import defaultdict\n",
    "\n",
    "from IPython.display import display_html\n",
    "# from IPython.core.interactiveshell import InteractiveShell\n",
    "# InteractiveShell.ast_node_interactivity = 'all'\n",
    "\n",
    "import collections\n",
    "import itertools\n",
    "import re\n",
    "import gc\n",
    "import math\n",
    "import numpy as np\n",
    "import pandas as pd\n",
    "import pickle\n",
    "import requests as r\n",
    "import matplotlib.pyplot as plt\n",
    "import seaborn as sns\n",
    "import shutil\n",
    "import random\n",
    "import copy\n",
    "import os\n",
    "\n",
    "import typing\n",
    "from typing import Mapping, Literal, Callable, List, ClassVar, Any, Tuple, Type\n",
    "\n",
    "from uuid import uuid4\n",
    "from rdkit import Chem\n",
    "from rdkit.Chem import AllChem, DataStructs, MACCSkeys, Draw\n",
    "from rdkit.Chem.Draw import IPythonConsole\n",
    "from datetime import date\n",
    "from scipy.sparse import csr_matrix, vstack\n",
    "from tqdm import tqdm\n",
    "\n",
    "import sklearn\n",
    "from sklearn.feature_extraction.text import CountVectorizer\n",
    "from sklearn.model_selection import train_test_split, GroupShuffleSplit\n",
    "from sklearn import preprocessing\n",
    "from sklearn import metrics\n",
    "from sklearn.metrics import classification_report, f1_score, roc_auc_score\n",
    "from sklearn.metrics import confusion_matrix, ConfusionMatrixDisplay\n",
    "from sklearn.utils import resample, class_weight\n",
    "\n",
    "import joblib\n",
    "\n",
    "pd.set_option('display.max_columns', 1000, 'display.width', 2000, 'display.max_colwidth', 100)"
   ]
  },
  {
   "cell_type": "code",
   "execution_count": 2,
   "metadata": {},
   "outputs": [],
   "source": [
    "data_dir = os.path.join(os.getcwd(), '..', 'data')\n",
    "src_dir = os.path.join(os.getcwd(), '..', 'src')\n",
    "fig_dir = os.path.join(data_dir, 'figures')\n",
    "checkpoint_dir = os.path.join(os.getcwd(), '..', 'checkpoints')\n",
    "dirs_to_make = [\n",
    "    data_dir,\n",
    "    os.path.join(data_dir, 'raw'),\n",
    "    os.path.join(data_dir, 'processed'),\n",
    "    os.path.join(data_dir, 'train'),\n",
    "    os.path.join(data_dir, 'val'),\n",
    "    os.path.join(data_dir, 'test'),\n",
    "    src_dir,\n",
    "    fig_dir,\n",
    "    checkpoint_dir,\n",
    "]\n",
    "for d in dirs_to_make:\n",
    "    if not os.path.exists(d):\n",
    "        os.makedirs(d)"
   ]
  },
  {
   "cell_type": "code",
   "execution_count": 7,
   "metadata": {},
   "outputs": [
    {
     "data": {
      "text/html": [
       "<div>\n",
       "<style scoped>\n",
       "    .dataframe tbody tr th:only-of-type {\n",
       "        vertical-align: middle;\n",
       "    }\n",
       "\n",
       "    .dataframe tbody tr th {\n",
       "        vertical-align: top;\n",
       "    }\n",
       "\n",
       "    .dataframe thead th {\n",
       "        text-align: right;\n",
       "    }\n",
       "</style>\n",
       "<table border=\"1\" class=\"dataframe\">\n",
       "  <thead>\n",
       "    <tr style=\"text-align: right;\">\n",
       "      <th></th>\n",
       "      <th>Smiles</th>\n",
       "      <th>Smiles_nostereo</th>\n",
       "      <th>DC50</th>\n",
       "      <th>pDC50</th>\n",
       "      <th>Dmax</th>\n",
       "      <th>poi_gene_id</th>\n",
       "      <th>poi_seq</th>\n",
       "      <th>cell_type</th>\n",
       "      <th>e3_ligase</th>\n",
       "      <th>active</th>\n",
       "    </tr>\n",
       "  </thead>\n",
       "  <tbody>\n",
       "    <tr>\n",
       "      <th>0</th>\n",
       "      <td>Cc1ncsc1-c1ccc(CNC(=O)[C@@H]2C[C@@H](O)CN2C(=O)[C@@H](NC(=O)CCCCCCCCCCNC(=O)c2cc3c(cc2CS(C)(=O)=...</td>\n",
       "      <td>C(CCCCCNC(=O)c1cc2c(-c3cn(C)c(=O)c4c3c(c[nH]4)CN2c2ncc(F)cc2F)cc1CS(=O)(C)=O)CCCCC(=O)NC(C(N1CC(...</td>\n",
       "      <td>3.400000e-09</td>\n",
       "      <td>8.468521</td>\n",
       "      <td>0.980000</td>\n",
       "      <td>BRD4</td>\n",
       "      <td>MSAESGPGTRLRNLPVMGDGLETSQMSTTQAQAQPQPANAASTNPPPPETSNPNKPKRQTNQLQYLLRVVLKTLWKHQFAWPFQQPVDAVKLNLPD...</td>\n",
       "      <td>PC3-S1</td>\n",
       "      <td>VHL</td>\n",
       "      <td>True</td>\n",
       "    </tr>\n",
       "    <tr>\n",
       "      <th>1</th>\n",
       "      <td>CN[C@@H](C)C(=O)N[C@H](C(=O)N1C[C@@H](NC(=O)COCCOCCOCCN2CCN(c3ccc(Nc4ncc5c(C)c(C(C)=O)c(=O)n(C6C...</td>\n",
       "      <td>C(=O)(C(C(C)(C)C)NC(=O)C(NC)C)N1CC(NC(COCCOCCOCCN2CCN(c3ccc(Nc4ncc5c(C)c(C(=O)C)c(=O)n(C6CCCC6)c...</td>\n",
       "      <td>1.600000e-08</td>\n",
       "      <td>7.795880</td>\n",
       "      <td>0.871440</td>\n",
       "      <td>CDK6</td>\n",
       "      <td>MEKDGLCRADQQYECVAEIGEGAYGKVFKARDLKNGGRFVALKRVRVQTGEEGMPLSTIREVAVLRHLETFEHPNVVRLFDVCTVSRTDRETKLTL...</td>\n",
       "      <td>JURKAT</td>\n",
       "      <td>IAP</td>\n",
       "      <td>True</td>\n",
       "    </tr>\n",
       "    <tr>\n",
       "      <th>2</th>\n",
       "      <td>O=C(CCCCCCC(=O)N/N=C/c1ccc(OCCCC#Cc2cccc3c2CN(C2CCC(=O)NC2=O)C3=O)cc1)NO</td>\n",
       "      <td>C(Oc1ccc(C=NNC(CCCCCCC(NO)=O)=O)cc1)CCC#Cc1cccc2c1CN(C1CCC(=O)NC1=O)C2=O</td>\n",
       "      <td>1.940000e-09</td>\n",
       "      <td>8.712198</td>\n",
       "      <td>0.896614</td>\n",
       "      <td>HDAC6</td>\n",
       "      <td>MTSTGQDSTTTRQRRSRQNPQSPPQDSSVTSKRNIKKGAVPRSIPNLAEVKKKGKMKKLGQAMEEDLIVGLQGMDLNLEAEALAGTGLVLDEQLNE...</td>\n",
       "      <td>MM1S</td>\n",
       "      <td>CRBN</td>\n",
       "      <td>True</td>\n",
       "    </tr>\n",
       "    <tr>\n",
       "      <th>3</th>\n",
       "      <td>Cc1ncsc1-c1ccc(CNC(=O)[C@@H]2C[C@@H](O)CN2C(=O)[C@@H](NC(=O)CCc2cc(N)cc(CCOCCOCC#Cc3ccc(C4=N[C@@...</td>\n",
       "      <td>CC(C)(C(C(N1C(C(=O)NCc2ccc(-c3c(C)ncs3)cc2)CC(O)C1)=O)NC(CCc1cc(N)cc(CCOCCOCC#Cc2ccc(C3=NC(Cc4nc...</td>\n",
       "      <td>8.700000e-08</td>\n",
       "      <td>7.060481</td>\n",
       "      <td>1.000000</td>\n",
       "      <td>BRD4</td>\n",
       "      <td>MSAESGPGTRLRNLPVMGDGLETSQMSTTQAQAQPQPANAASTNPPPPETSNPNKPKRQTNQLQYLLRVVLKTLWKHQFAWPFQQPVDAVKLNLPD...</td>\n",
       "      <td>PC3-S1</td>\n",
       "      <td>VHL</td>\n",
       "      <td>True</td>\n",
       "    </tr>\n",
       "    <tr>\n",
       "      <th>4</th>\n",
       "      <td>Nc1ncnc2c1c(-c1ccc(Oc3ccccc3)cc1)nn2[C@@H]1CCCN(C(=O)/C=C/COCCOCCOCCOCCOCCOc2cccc3c2C(=O)N(C2CCC...</td>\n",
       "      <td>C(Oc1cccc2c1C(=O)N(C1CCC(=O)NC1=O)C2=O)COCCOCCOCCOCCOCC=CC(N1CC(n2c3c(c(N)ncn3)c(-c3ccc(Oc4ccccc...</td>\n",
       "      <td>8.600000e-09</td>\n",
       "      <td>8.065502</td>\n",
       "      <td>0.910000</td>\n",
       "      <td>BTK</td>\n",
       "      <td>MAAVILESIFLKRSQQKKKTSPLNFKKRLFLLTVHKLSYYEYDFERGRRGSKKGSIDVEKITCVETVVPEKNPPPERQIPRRGEESSEMEQISIIE...</td>\n",
       "      <td>MINO</td>\n",
       "      <td>CRBN</td>\n",
       "      <td>True</td>\n",
       "    </tr>\n",
       "  </tbody>\n",
       "</table>\n",
       "</div>"
      ],
      "text/plain": [
       "                                                                                                Smiles                                                                                      Smiles_nostereo          DC50     pDC50      Dmax poi_gene_id                                                                                              poi_seq cell_type e3_ligase active\n",
       "0  Cc1ncsc1-c1ccc(CNC(=O)[C@@H]2C[C@@H](O)CN2C(=O)[C@@H](NC(=O)CCCCCCCCCCNC(=O)c2cc3c(cc2CS(C)(=O)=...  C(CCCCCNC(=O)c1cc2c(-c3cn(C)c(=O)c4c3c(c[nH]4)CN2c2ncc(F)cc2F)cc1CS(=O)(C)=O)CCCCC(=O)NC(C(N1CC(...  3.400000e-09  8.468521  0.980000        BRD4  MSAESGPGTRLRNLPVMGDGLETSQMSTTQAQAQPQPANAASTNPPPPETSNPNKPKRQTNQLQYLLRVVLKTLWKHQFAWPFQQPVDAVKLNLPD...    PC3-S1       VHL   True\n",
       "1  CN[C@@H](C)C(=O)N[C@H](C(=O)N1C[C@@H](NC(=O)COCCOCCOCCN2CCN(c3ccc(Nc4ncc5c(C)c(C(C)=O)c(=O)n(C6C...  C(=O)(C(C(C)(C)C)NC(=O)C(NC)C)N1CC(NC(COCCOCCOCCN2CCN(c3ccc(Nc4ncc5c(C)c(C(=O)C)c(=O)n(C6CCCC6)c...  1.600000e-08  7.795880  0.871440        CDK6  MEKDGLCRADQQYECVAEIGEGAYGKVFKARDLKNGGRFVALKRVRVQTGEEGMPLSTIREVAVLRHLETFEHPNVVRLFDVCTVSRTDRETKLTL...    JURKAT       IAP   True\n",
       "2                             O=C(CCCCCCC(=O)N/N=C/c1ccc(OCCCC#Cc2cccc3c2CN(C2CCC(=O)NC2=O)C3=O)cc1)NO                             C(Oc1ccc(C=NNC(CCCCCCC(NO)=O)=O)cc1)CCC#Cc1cccc2c1CN(C1CCC(=O)NC1=O)C2=O  1.940000e-09  8.712198  0.896614       HDAC6  MTSTGQDSTTTRQRRSRQNPQSPPQDSSVTSKRNIKKGAVPRSIPNLAEVKKKGKMKKLGQAMEEDLIVGLQGMDLNLEAEALAGTGLVLDEQLNE...      MM1S      CRBN   True\n",
       "3  Cc1ncsc1-c1ccc(CNC(=O)[C@@H]2C[C@@H](O)CN2C(=O)[C@@H](NC(=O)CCc2cc(N)cc(CCOCCOCC#Cc3ccc(C4=N[C@@...  CC(C)(C(C(N1C(C(=O)NCc2ccc(-c3c(C)ncs3)cc2)CC(O)C1)=O)NC(CCc1cc(N)cc(CCOCCOCC#Cc2ccc(C3=NC(Cc4nc...  8.700000e-08  7.060481  1.000000        BRD4  MSAESGPGTRLRNLPVMGDGLETSQMSTTQAQAQPQPANAASTNPPPPETSNPNKPKRQTNQLQYLLRVVLKTLWKHQFAWPFQQPVDAVKLNLPD...    PC3-S1       VHL   True\n",
       "4  Nc1ncnc2c1c(-c1ccc(Oc3ccccc3)cc1)nn2[C@@H]1CCCN(C(=O)/C=C/COCCOCCOCCOCCOCCOc2cccc3c2C(=O)N(C2CCC...  C(Oc1cccc2c1C(=O)N(C1CCC(=O)NC1=O)C2=O)COCCOCCOCCOCCOCC=CC(N1CC(n2c3c(c(N)ncn3)c(-c3ccc(Oc4ccccc...  8.600000e-09  8.065502  0.910000         BTK  MAAVILESIFLKRSQQKKKTSPLNFKKRLFLLTVHKLSYYEYDFERGRRGSKKGSIDVEKITCVETVVPEKNPPPERQIPRRGEESSEMEQISIIE...      MINO      CRBN   True"
      ]
     },
     "execution_count": 7,
     "metadata": {},
     "output_type": "execute_result"
    }
   ],
   "source": [
    "ssl_df_path = os.path.join(data_dir, 'processed', 'protac_db_ssl.csv')\n",
    "train_df_path = os.path.join(data_dir, 'train', 'train_bin_upsampled.csv')\n",
    "val_df_path = os.path.join(data_dir, 'val', 'val_bin.csv')\n",
    "test_df_path = os.path.join(data_dir, 'test', 'test_bin.csv')\n",
    "cols_to_keep = [\n",
    "    'Smiles',\n",
    "    'Smiles_nostereo',\n",
    "    'DC50',\n",
    "    'pDC50',\n",
    "    'Dmax',\n",
    "    'poi_gene_id',\n",
    "    'poi_seq',\n",
    "    'cell_type',\n",
    "    'e3_ligase',\n",
    "    'active',\n",
    "]\n",
    "# Assign train/val datasets for use in dataloaders\n",
    "train_df = pd.read_csv(train_df_path).reset_index(drop=True)\n",
    "val_df = pd.read_csv(val_df_path).reset_index(drop=True)\n",
    "test_df = pd.read_csv(test_df_path).reset_index(drop=True)\n",
    "ssl_df = pd.read_csv(ssl_df_path).reset_index(drop=True)\n",
    "train_df = train_df[cols_to_keep]\n",
    "val_df = val_df[cols_to_keep]\n",
    "test_df = test_df[cols_to_keep]\n",
    "ssl_df = ssl_df[cols_to_keep]\n",
    "\n",
    "protac_df = pd.concat([train_df, val_df, ssl_df]).reset_index(drop=True)\n",
    "protac_df = protac_df[cols_to_keep]\n",
    "protac_df.head()"
   ]
  },
  {
   "attachments": {},
   "cell_type": "markdown",
   "metadata": {},
   "source": [
    "## POI Sequence Encoding"
   ]
  },
  {
   "attachments": {},
   "cell_type": "markdown",
   "metadata": {},
   "source": [
    "#### POI Sequence to $N_{grams}$\n",
    "\n",
    "Count-vectorize the POI amino acid sequence.\n",
    "\n",
    "(Not ideal and very simple, but it's a start)"
   ]
  },
  {
   "cell_type": "code",
   "execution_count": 11,
   "metadata": {},
   "outputs": [
    {
     "name": "stdout",
     "output_type": "stream",
     "text": [
      "Training POI vectorizer...\n",
      "POI embedding size: 403\n",
      "Done!\n"
     ]
    }
   ],
   "source": [
    "ngram_min_range = 2 # Orginal: 3\n",
    "ngram_max_range = 2 # Orginal: 3\n",
    "# poi_vectorizer = CountVectorizer(analyzer='char', ngram_range=(ngram_min_range, ngram_max_range))\n",
    "# X = poi_vectorizer.fit_transform(protac_df['poi_seq'].tolist())\n",
    "# rec_n_grams_df = pd.DataFrame(X.toarray(), columns=list(s.replace(' ', '') for s in poi_vectorizer.get_feature_names_out()))\n",
    "# print(f'POI embedding size: {rec_n_grams_df.shape[-1]}')\n",
    "\n",
    "protac_df['poi_seq'] = protac_df['poi_seq'].fillna('')\n",
    "\n",
    "# Load the pre-trained countvectorizer if it exists, otherwise train it\n",
    "poi_encoder_filepath = os.path.join(checkpoint_dir, 'poi_encoder.joblib')\n",
    "if os.path.exists(poi_encoder_filepath):\n",
    "    print('Loading pre-trained POI vectorizer...')\n",
    "    poi_encoder = joblib.load(poi_encoder_filepath)\n",
    "else:\n",
    "    print('Training POI vectorizer...')\n",
    "    poi_encoder = CountVectorizer(analyzer='char', ngram_range=(ngram_min_range, ngram_max_range))\n",
    "    X = poi_encoder.fit_transform(protac_df['poi_seq'].tolist())\n",
    "    rec_n_grams_df = pd.DataFrame(X.toarray(), columns=list(s.replace(' ', '') for s in poi_encoder.get_feature_names_out()))\n",
    "    print(f'POI embedding size: {rec_n_grams_df.shape[-1]}')\n",
    "    joblib.dump(poi_encoder, poi_encoder_filepath)\n",
    "print('Done!')"
   ]
  },
  {
   "attachments": {},
   "cell_type": "markdown",
   "metadata": {},
   "source": [
    "#### POI Gene Ordinal Encoding"
   ]
  },
  {
   "attachments": {},
   "cell_type": "markdown",
   "metadata": {},
   "source": [
    "Add the \"Unknown\" class to the POI genes.\n",
    "\n",
    "Since genes ultimately encode proteins, we can use the gene ID as a categorical feature to include information about the POIs.\n",
    "\n",
    "(The information loss is considerable, since the gene ID is not that informative compared to the entire amino acid sequence)"
   ]
  },
  {
   "cell_type": "code",
   "execution_count": null,
   "metadata": {},
   "outputs": [],
   "source": [
    "poi_gene_enc = preprocessing.OrdinalEncoder(handle_unknown='use_encoded_value',\n",
    "                                            unknown_value=-1,\n",
    "                                            encoded_missing_value=-1)\n",
    "poi_gene_id = protac_df['poi_gene_id'].to_numpy().reshape(-1, 1)\n",
    "poi_gene_enc.fit(poi_gene_id)"
   ]
  },
  {
   "attachments": {},
   "cell_type": "markdown",
   "metadata": {},
   "source": [
    "## E3 Ligase and Cell Type Ordinal Encoding\n",
    "\n",
    "Notice that the \"other E3\" have been dropped during the previous steps, leading to only 5 possibilities left."
   ]
  },
  {
   "cell_type": "code",
   "execution_count": 13,
   "metadata": {},
   "outputs": [
    {
     "name": "stdout",
     "output_type": "stream",
     "text": [
      "Training E3 encoder...\n",
      "Done!\n"
     ]
    }
   ],
   "source": [
    "# Load the pre-trained ordinal encoder if it exists, otherwise train it\n",
    "e3_encoder_filepath = os.path.join(checkpoint_dir, 'e3_ligase_encoder.joblib')\n",
    "if os.path.exists(e3_encoder_filepath) and False:\n",
    "    print('Loading pre-trained POI vectorizer...')\n",
    "    e3_encoder = joblib.load(e3_encoder_filepath)\n",
    "else:\n",
    "    print('Training E3 encoder...')\n",
    "    e3_encoder = preprocessing.OrdinalEncoder(handle_unknown='use_encoded_value',\n",
    "                                              unknown_value=-1,\n",
    "                                              encoded_missing_value=-1)\n",
    "    e3_ligase = protac_df['e3_ligase'].to_numpy().reshape(-1, 1)\n",
    "    e3_encoder.fit(e3_ligase)\n",
    "    joblib.dump(e3_encoder, e3_encoder_filepath)\n",
    "print('Done!')"
   ]
  },
  {
   "cell_type": "code",
   "execution_count": 12,
   "metadata": {},
   "outputs": [
    {
     "name": "stdout",
     "output_type": "stream",
     "text": [
      "Training E3 encoder...\n",
      "Done!\n"
     ]
    }
   ],
   "source": [
    "# Load the pre-trained ordinal encoder if it exists, otherwise train it\n",
    "cell_encoder_filepath = os.path.join(checkpoint_dir, 'cell_type_encoder.joblib')\n",
    "if os.path.exists(cell_encoder_filepath):\n",
    "    print('Loading pre-trained POI vectorizer...')\n",
    "    cell_encoder = joblib.load(cell_encoder_filepath)\n",
    "else:\n",
    "    print('Training E3 encoder...')\n",
    "    cell_encoder = preprocessing.OrdinalEncoder(handle_unknown='use_encoded_value',\n",
    "                                                unknown_value=-1,\n",
    "                                                encoded_missing_value=-1)\n",
    "    cell_type = protac_df['cell_type'].to_numpy().reshape(-1, 1)\n",
    "    cell_encoder.fit(cell_type)\n",
    "    joblib.dump(cell_encoder, cell_encoder_filepath)\n",
    "print('Done!')"
   ]
  }
 ],
 "metadata": {
  "kernelspec": {
   "display_name": "Python 3",
   "language": "python",
   "name": "python3"
  },
  "language_info": {
   "codemirror_mode": {
    "name": "ipython",
    "version": 3
   },
   "file_extension": ".py",
   "mimetype": "text/x-python",
   "name": "python",
   "nbconvert_exporter": "python",
   "pygments_lexer": "ipython3",
   "version": "3.11.0"
  },
  "orig_nbformat": 4
 },
 "nbformat": 4,
 "nbformat_minor": 2
}
